{
  "nbformat": 4,
  "nbformat_minor": 0,
  "metadata": {
    "colab": {
      "name": "Projeto_Data_Science - ALURA .ipynb",
      "provenance": [],
      "collapsed_sections": [],
      "toc_visible": true
    },
    "kernelspec": {
      "name": "python3",
      "display_name": "Python 3"
    }
  },
  "cells": [
    {
      "cell_type": "markdown",
      "metadata": {
        "id": "OxBtbw2kk-Ud"
      },
      "source": [
        "# Formação Data Science Alura - Análise exploratória do MovieLens\n",
        "\n",
        "Na formação de Data Scienda www.alura.com.br um dos conjuntos de dados que utilizamos é o de avaliações para filmes no site MovieLens. Neste projeto faremos uma análise exploratória desses dados."
      ]
    },
    {
      "cell_type": "markdown",
      "metadata": {
        "id": "att5WMRBkvxn"
      },
      "source": [
        "##Gabriel Felipe de Castro Barbosa.\n",
        "##Projeto DataScience\n",
        "### Análise exploratória com Python."
      ]
    },
    {
      "cell_type": "markdown",
      "metadata": {
        "id": "I_-_CkHMlID0"
      },
      "source": [
        "## Dicas para o projeto completo:\n",
        "\n",
        "- todo gráfico deve ter um título, labels e legendas que fazem sentido\n",
        "- configure um tamanho adequado para os gráficos\n",
        "- utilize as versões dos arquivos de dados disponíveis no github"
      ]
    },
    {
      "cell_type": "markdown",
      "metadata": {
        "id": "ndGpm1oqllUh"
      },
      "source": [
        "## Versões utilizadas\n",
        "\n",
        "- Devemos usar pandas 0.24.0 ou mais recente\n",
        "- Devemos usar seaborn 0.9.0 ou mais recente\n",
        "- Devemos usar scipy 1.2.0 ou mais recente"
      ]
    },
    {
      "cell_type": "code",
      "metadata": {
        "id": "kLX2Z0PHlWRX",
        "colab": {
          "base_uri": "https://localhost:8080/"
        },
        "outputId": "325392bf-b1ae-4b20-ca94-581711eeb9eb"
      },
      "source": [
        "## Conferindo as versões utilizadas\n",
        "import pandas as pd\n",
        "import seaborn as sns\n",
        "import scipy as stats\n",
        "import numpy as np\n",
        "import matplotlib.pyplot as plt\n",
        "\n",
        "\n",
        "print(\"Usando pandas %s\" % pd.__version__)\n",
        "print(\"Usando seaborn %s\" % sns.__version__)\n",
        "print(\"Usando scipy %s\" % stats.__version__)"
      ],
      "execution_count": 1,
      "outputs": [
        {
          "output_type": "stream",
          "text": [
            "Usando pandas 1.1.4\n",
            "Usando seaborn 0.11.0\n",
            "Usando scipy 1.4.1\n"
          ],
          "name": "stdout"
        }
      ]
    },
    {
      "cell_type": "markdown",
      "metadata": {
        "id": "Kq63c3O1oV2X"
      },
      "source": [
        "# TRATAMENTO DOS DADOS"
      ]
    },
    {
      "cell_type": "code",
      "metadata": {
        "id": "Q07OISo5k0t9"
      },
      "source": [
        "# ---> Importando bases\n",
        "movies = pd.read_csv(\"https://raw.githubusercontent.com/alura-cursos/formacao-data-science/master/movies.csv\")\n",
        "ratings = pd.read_csv(\"ratings.csv\")"
      ],
      "execution_count": 2,
      "outputs": []
    },
    {
      "cell_type": "code",
      "metadata": {
        "id": "vdomK1ckmoY6",
        "colab": {
          "base_uri": "https://localhost:8080/",
          "height": 197
        },
        "outputId": "f7582eac-6c88-4bb1-faa8-a92eccbd2a6d"
      },
      "source": [
        "movies.head()"
      ],
      "execution_count": 3,
      "outputs": [
        {
          "output_type": "execute_result",
          "data": {
            "text/html": [
              "<div>\n",
              "<style scoped>\n",
              "    .dataframe tbody tr th:only-of-type {\n",
              "        vertical-align: middle;\n",
              "    }\n",
              "\n",
              "    .dataframe tbody tr th {\n",
              "        vertical-align: top;\n",
              "    }\n",
              "\n",
              "    .dataframe thead th {\n",
              "        text-align: right;\n",
              "    }\n",
              "</style>\n",
              "<table border=\"1\" class=\"dataframe\">\n",
              "  <thead>\n",
              "    <tr style=\"text-align: right;\">\n",
              "      <th></th>\n",
              "      <th>movieId</th>\n",
              "      <th>title</th>\n",
              "      <th>genres</th>\n",
              "    </tr>\n",
              "  </thead>\n",
              "  <tbody>\n",
              "    <tr>\n",
              "      <th>0</th>\n",
              "      <td>1</td>\n",
              "      <td>Toy Story (1995)</td>\n",
              "      <td>Adventure|Animation|Children|Comedy|Fantasy</td>\n",
              "    </tr>\n",
              "    <tr>\n",
              "      <th>1</th>\n",
              "      <td>2</td>\n",
              "      <td>Jumanji (1995)</td>\n",
              "      <td>Adventure|Children|Fantasy</td>\n",
              "    </tr>\n",
              "    <tr>\n",
              "      <th>2</th>\n",
              "      <td>3</td>\n",
              "      <td>Grumpier Old Men (1995)</td>\n",
              "      <td>Comedy|Romance</td>\n",
              "    </tr>\n",
              "    <tr>\n",
              "      <th>3</th>\n",
              "      <td>4</td>\n",
              "      <td>Waiting to Exhale (1995)</td>\n",
              "      <td>Comedy|Drama|Romance</td>\n",
              "    </tr>\n",
              "    <tr>\n",
              "      <th>4</th>\n",
              "      <td>5</td>\n",
              "      <td>Father of the Bride Part II (1995)</td>\n",
              "      <td>Comedy</td>\n",
              "    </tr>\n",
              "  </tbody>\n",
              "</table>\n",
              "</div>"
            ],
            "text/plain": [
              "   movieId  ...                                       genres\n",
              "0        1  ...  Adventure|Animation|Children|Comedy|Fantasy\n",
              "1        2  ...                   Adventure|Children|Fantasy\n",
              "2        3  ...                               Comedy|Romance\n",
              "3        4  ...                         Comedy|Drama|Romance\n",
              "4        5  ...                                       Comedy\n",
              "\n",
              "[5 rows x 3 columns]"
            ]
          },
          "metadata": {
            "tags": []
          },
          "execution_count": 3
        }
      ]
    },
    {
      "cell_type": "code",
      "metadata": {
        "colab": {
          "base_uri": "https://localhost:8080/",
          "height": 197
        },
        "id": "AUD9hBdPnB0T",
        "outputId": "f28236a6-c960-47a1-e5f9-39004823976c"
      },
      "source": [
        "ratings.head()"
      ],
      "execution_count": 4,
      "outputs": [
        {
          "output_type": "execute_result",
          "data": {
            "text/html": [
              "<div>\n",
              "<style scoped>\n",
              "    .dataframe tbody tr th:only-of-type {\n",
              "        vertical-align: middle;\n",
              "    }\n",
              "\n",
              "    .dataframe tbody tr th {\n",
              "        vertical-align: top;\n",
              "    }\n",
              "\n",
              "    .dataframe thead th {\n",
              "        text-align: right;\n",
              "    }\n",
              "</style>\n",
              "<table border=\"1\" class=\"dataframe\">\n",
              "  <thead>\n",
              "    <tr style=\"text-align: right;\">\n",
              "      <th></th>\n",
              "      <th>userId</th>\n",
              "      <th>movieId</th>\n",
              "      <th>rating</th>\n",
              "      <th>timestamp</th>\n",
              "    </tr>\n",
              "  </thead>\n",
              "  <tbody>\n",
              "    <tr>\n",
              "      <th>0</th>\n",
              "      <td>1</td>\n",
              "      <td>1</td>\n",
              "      <td>4.0</td>\n",
              "      <td>964982703</td>\n",
              "    </tr>\n",
              "    <tr>\n",
              "      <th>1</th>\n",
              "      <td>1</td>\n",
              "      <td>3</td>\n",
              "      <td>4.0</td>\n",
              "      <td>964981247</td>\n",
              "    </tr>\n",
              "    <tr>\n",
              "      <th>2</th>\n",
              "      <td>1</td>\n",
              "      <td>6</td>\n",
              "      <td>4.0</td>\n",
              "      <td>964982224</td>\n",
              "    </tr>\n",
              "    <tr>\n",
              "      <th>3</th>\n",
              "      <td>1</td>\n",
              "      <td>47</td>\n",
              "      <td>5.0</td>\n",
              "      <td>964983815</td>\n",
              "    </tr>\n",
              "    <tr>\n",
              "      <th>4</th>\n",
              "      <td>1</td>\n",
              "      <td>50</td>\n",
              "      <td>5.0</td>\n",
              "      <td>964982931</td>\n",
              "    </tr>\n",
              "  </tbody>\n",
              "</table>\n",
              "</div>"
            ],
            "text/plain": [
              "   userId  movieId  rating  timestamp\n",
              "0       1        1     4.0  964982703\n",
              "1       1        3     4.0  964981247\n",
              "2       1        6     4.0  964982224\n",
              "3       1       47     5.0  964983815\n",
              "4       1       50     5.0  964982931"
            ]
          },
          "metadata": {
            "tags": []
          },
          "execution_count": 4
        }
      ]
    },
    {
      "cell_type": "code",
      "metadata": {
        "colab": {
          "base_uri": "https://localhost:8080/"
        },
        "id": "_yenKUD3nDDq",
        "outputId": "b8d91de6-7564-40ed-9498-f46ef42241db"
      },
      "source": [
        "print(\"Carregamos %d filmes\" % len(movies))\n",
        "if(len(movies) != 9742):\n",
        "    print(\"ERRO! O conjunto de dados que estamos trabalhando nesse projeto possui 9742 elementos.\")"
      ],
      "execution_count": 5,
      "outputs": [
        {
          "output_type": "stream",
          "text": [
            "Carregamos 9742 filmes\n"
          ],
          "name": "stdout"
        }
      ]
    },
    {
      "cell_type": "code",
      "metadata": {
        "id": "bgTbmDztnM2i"
      },
      "source": [
        "# ---> Renomeando colunas\n",
        "movies.columns = [\"FILME_ID\",\"TITULO\",\"GENEROS\"]\n",
        "ratings.columns = [\"USUARIO_ID\",\"FILME_ID\",\"NOTA\",\"MOMENTO\"]\n",
        "movies.index = movies.FILME_ID"
      ],
      "execution_count": 6,
      "outputs": []
    },
    {
      "cell_type": "code",
      "metadata": {
        "colab": {
          "base_uri": "https://localhost:8080/",
          "height": 227
        },
        "id": "ogdxIWIBnUS5",
        "outputId": "f98dbd88-5e90-4acb-f7ba-5644ff25077d"
      },
      "source": [
        "# ---> Extraindo ano de lançamento\n",
        "ANO_LANCAMENTO = movies.TITULO.str.extract(\"\\((\\d{4})\\)\")\n",
        "movies['ANO_LANCAMENTO'] = ANO_LANCAMENTO.astype(float) #Incluindo valores de uma série a um DataFrame, A relação é feita diretamente pelo Index.\n",
        "movies.head()"
      ],
      "execution_count": 7,
      "outputs": [
        {
          "output_type": "execute_result",
          "data": {
            "text/html": [
              "<div>\n",
              "<style scoped>\n",
              "    .dataframe tbody tr th:only-of-type {\n",
              "        vertical-align: middle;\n",
              "    }\n",
              "\n",
              "    .dataframe tbody tr th {\n",
              "        vertical-align: top;\n",
              "    }\n",
              "\n",
              "    .dataframe thead th {\n",
              "        text-align: right;\n",
              "    }\n",
              "</style>\n",
              "<table border=\"1\" class=\"dataframe\">\n",
              "  <thead>\n",
              "    <tr style=\"text-align: right;\">\n",
              "      <th></th>\n",
              "      <th>FILME_ID</th>\n",
              "      <th>TITULO</th>\n",
              "      <th>GENEROS</th>\n",
              "      <th>ANO_LANCAMENTO</th>\n",
              "    </tr>\n",
              "    <tr>\n",
              "      <th>FILME_ID</th>\n",
              "      <th></th>\n",
              "      <th></th>\n",
              "      <th></th>\n",
              "      <th></th>\n",
              "    </tr>\n",
              "  </thead>\n",
              "  <tbody>\n",
              "    <tr>\n",
              "      <th>1</th>\n",
              "      <td>1</td>\n",
              "      <td>Toy Story (1995)</td>\n",
              "      <td>Adventure|Animation|Children|Comedy|Fantasy</td>\n",
              "      <td>1995.0</td>\n",
              "    </tr>\n",
              "    <tr>\n",
              "      <th>2</th>\n",
              "      <td>2</td>\n",
              "      <td>Jumanji (1995)</td>\n",
              "      <td>Adventure|Children|Fantasy</td>\n",
              "      <td>1995.0</td>\n",
              "    </tr>\n",
              "    <tr>\n",
              "      <th>3</th>\n",
              "      <td>3</td>\n",
              "      <td>Grumpier Old Men (1995)</td>\n",
              "      <td>Comedy|Romance</td>\n",
              "      <td>1995.0</td>\n",
              "    </tr>\n",
              "    <tr>\n",
              "      <th>4</th>\n",
              "      <td>4</td>\n",
              "      <td>Waiting to Exhale (1995)</td>\n",
              "      <td>Comedy|Drama|Romance</td>\n",
              "      <td>1995.0</td>\n",
              "    </tr>\n",
              "    <tr>\n",
              "      <th>5</th>\n",
              "      <td>5</td>\n",
              "      <td>Father of the Bride Part II (1995)</td>\n",
              "      <td>Comedy</td>\n",
              "      <td>1995.0</td>\n",
              "    </tr>\n",
              "  </tbody>\n",
              "</table>\n",
              "</div>"
            ],
            "text/plain": [
              "          FILME_ID  ... ANO_LANCAMENTO\n",
              "FILME_ID            ...               \n",
              "1                1  ...         1995.0\n",
              "2                2  ...         1995.0\n",
              "3                3  ...         1995.0\n",
              "4                4  ...         1995.0\n",
              "5                5  ...         1995.0\n",
              "\n",
              "[5 rows x 4 columns]"
            ]
          },
          "metadata": {
            "tags": []
          },
          "execution_count": 7
        }
      ]
    },
    {
      "cell_type": "markdown",
      "metadata": {
        "id": "G4Z9fw1Qn7xT"
      },
      "source": [
        "\n",
        "## Pergunta: gere uma nova feature, a média dos votos por filme; remova os filmes com menos de 50 avaliações\n",
        "\n",
        "- crie uma nova coluna chamada `nota_media` dentro do dataframe `filmes`\n",
        "\n",
        "  **Dica:\n",
        "    - como filmeId já é o indice de seu dataframe filmes, se você possui uma série com o número de votos por filme, basta atribuir uma nova coluna normalmente que será usado o mesmo índice\n",
        "\n",
        "- conte o número de notas por filme\n",
        "- adicione uma coluna nova chamada `total_de_votos` a `filmes` que representa o número de avaliações que aquele filme teve no conjunto de dados\n"
      ]
    },
    {
      "cell_type": "markdown",
      "metadata": {
        "id": "HVaJJBSRpaEq"
      },
      "source": [
        "### Calculando campos média e quantidade de avaliações "
      ]
    },
    {
      "cell_type": "code",
      "metadata": {
        "colab": {
          "base_uri": "https://localhost:8080/",
          "height": 227
        },
        "id": "TE2Nq7xLpOmk",
        "outputId": "e37bf5cb-460c-4a86-e2b0-cbf76455ee25"
      },
      "source": [
        "join_movies_ratings = movies.join(ratings.set_index(\"FILME_ID\"), how = \"left\")\n",
        "'''\n",
        "O join pode ser feito direto quando ambos os DataFrames possuem o mesmo index, ou também pode ser indicado\n",
        "qual coluna do primeiro DataFrame que irá se unir ao Index do segundo DataFrame.\n",
        "'''\n",
        "join_movies_ratings.head()"
      ],
      "execution_count": 8,
      "outputs": [
        {
          "output_type": "execute_result",
          "data": {
            "text/html": [
              "<div>\n",
              "<style scoped>\n",
              "    .dataframe tbody tr th:only-of-type {\n",
              "        vertical-align: middle;\n",
              "    }\n",
              "\n",
              "    .dataframe tbody tr th {\n",
              "        vertical-align: top;\n",
              "    }\n",
              "\n",
              "    .dataframe thead th {\n",
              "        text-align: right;\n",
              "    }\n",
              "</style>\n",
              "<table border=\"1\" class=\"dataframe\">\n",
              "  <thead>\n",
              "    <tr style=\"text-align: right;\">\n",
              "      <th></th>\n",
              "      <th>FILME_ID</th>\n",
              "      <th>TITULO</th>\n",
              "      <th>GENEROS</th>\n",
              "      <th>ANO_LANCAMENTO</th>\n",
              "      <th>USUARIO_ID</th>\n",
              "      <th>NOTA</th>\n",
              "      <th>MOMENTO</th>\n",
              "    </tr>\n",
              "    <tr>\n",
              "      <th>FILME_ID</th>\n",
              "      <th></th>\n",
              "      <th></th>\n",
              "      <th></th>\n",
              "      <th></th>\n",
              "      <th></th>\n",
              "      <th></th>\n",
              "      <th></th>\n",
              "    </tr>\n",
              "  </thead>\n",
              "  <tbody>\n",
              "    <tr>\n",
              "      <th>1</th>\n",
              "      <td>1</td>\n",
              "      <td>Toy Story (1995)</td>\n",
              "      <td>Adventure|Animation|Children|Comedy|Fantasy</td>\n",
              "      <td>1995.0</td>\n",
              "      <td>1.0</td>\n",
              "      <td>4.0</td>\n",
              "      <td>9.649827e+08</td>\n",
              "    </tr>\n",
              "    <tr>\n",
              "      <th>1</th>\n",
              "      <td>1</td>\n",
              "      <td>Toy Story (1995)</td>\n",
              "      <td>Adventure|Animation|Children|Comedy|Fantasy</td>\n",
              "      <td>1995.0</td>\n",
              "      <td>5.0</td>\n",
              "      <td>4.0</td>\n",
              "      <td>8.474350e+08</td>\n",
              "    </tr>\n",
              "    <tr>\n",
              "      <th>1</th>\n",
              "      <td>1</td>\n",
              "      <td>Toy Story (1995)</td>\n",
              "      <td>Adventure|Animation|Children|Comedy|Fantasy</td>\n",
              "      <td>1995.0</td>\n",
              "      <td>7.0</td>\n",
              "      <td>4.5</td>\n",
              "      <td>1.106636e+09</td>\n",
              "    </tr>\n",
              "    <tr>\n",
              "      <th>1</th>\n",
              "      <td>1</td>\n",
              "      <td>Toy Story (1995)</td>\n",
              "      <td>Adventure|Animation|Children|Comedy|Fantasy</td>\n",
              "      <td>1995.0</td>\n",
              "      <td>15.0</td>\n",
              "      <td>2.5</td>\n",
              "      <td>1.510578e+09</td>\n",
              "    </tr>\n",
              "    <tr>\n",
              "      <th>1</th>\n",
              "      <td>1</td>\n",
              "      <td>Toy Story (1995)</td>\n",
              "      <td>Adventure|Animation|Children|Comedy|Fantasy</td>\n",
              "      <td>1995.0</td>\n",
              "      <td>17.0</td>\n",
              "      <td>4.5</td>\n",
              "      <td>1.305696e+09</td>\n",
              "    </tr>\n",
              "  </tbody>\n",
              "</table>\n",
              "</div>"
            ],
            "text/plain": [
              "          FILME_ID            TITULO  ... NOTA       MOMENTO\n",
              "FILME_ID                              ...                   \n",
              "1                1  Toy Story (1995)  ...  4.0  9.649827e+08\n",
              "1                1  Toy Story (1995)  ...  4.0  8.474350e+08\n",
              "1                1  Toy Story (1995)  ...  4.5  1.106636e+09\n",
              "1                1  Toy Story (1995)  ...  2.5  1.510578e+09\n",
              "1                1  Toy Story (1995)  ...  4.5  1.305696e+09\n",
              "\n",
              "[5 rows x 7 columns]"
            ]
          },
          "metadata": {
            "tags": []
          },
          "execution_count": 8
        }
      ]
    },
    {
      "cell_type": "code",
      "metadata": {
        "colab": {
          "base_uri": "https://localhost:8080/",
          "height": 733
        },
        "id": "655UKGQtpxeS",
        "outputId": "898ddcee-364f-43af-e17d-20f07c4aea8c"
      },
      "source": [
        "nota_media_filmes = join_movies_ratings.groupby(\"TITULO\")[\"FILME_ID\",\"NOTA\"].mean()\n",
        "nota_media_filmes = nota_media_filmes.sort_values(\"NOTA\",ascending= False)\n",
        "nota_media_filmes.head(20)"
      ],
      "execution_count": 10,
      "outputs": [
        {
          "output_type": "stream",
          "text": [
            "/usr/local/lib/python3.6/dist-packages/ipykernel_launcher.py:1: FutureWarning: Indexing with multiple keys (implicitly converted to a tuple of keys) will be deprecated, use a list instead.\n",
            "  \"\"\"Entry point for launching an IPython kernel.\n"
          ],
          "name": "stderr"
        },
        {
          "output_type": "execute_result",
          "data": {
            "text/html": [
              "<div>\n",
              "<style scoped>\n",
              "    .dataframe tbody tr th:only-of-type {\n",
              "        vertical-align: middle;\n",
              "    }\n",
              "\n",
              "    .dataframe tbody tr th {\n",
              "        vertical-align: top;\n",
              "    }\n",
              "\n",
              "    .dataframe thead th {\n",
              "        text-align: right;\n",
              "    }\n",
              "</style>\n",
              "<table border=\"1\" class=\"dataframe\">\n",
              "  <thead>\n",
              "    <tr style=\"text-align: right;\">\n",
              "      <th></th>\n",
              "      <th>FILME_ID</th>\n",
              "      <th>NOTA</th>\n",
              "    </tr>\n",
              "    <tr>\n",
              "      <th>TITULO</th>\n",
              "      <th></th>\n",
              "      <th></th>\n",
              "    </tr>\n",
              "  </thead>\n",
              "  <tbody>\n",
              "    <tr>\n",
              "      <th>Gena the Crocodile (1969)</th>\n",
              "      <td>175293.0</td>\n",
              "      <td>5.0</td>\n",
              "    </tr>\n",
              "    <tr>\n",
              "      <th>True Stories (1986)</th>\n",
              "      <td>7815.0</td>\n",
              "      <td>5.0</td>\n",
              "    </tr>\n",
              "    <tr>\n",
              "      <th>Cosmic Scrat-tastrophe (2015)</th>\n",
              "      <td>146684.0</td>\n",
              "      <td>5.0</td>\n",
              "    </tr>\n",
              "    <tr>\n",
              "      <th>Love and Pigeons (1985)</th>\n",
              "      <td>130978.0</td>\n",
              "      <td>5.0</td>\n",
              "    </tr>\n",
              "    <tr>\n",
              "      <th>Red Sorghum (Hong gao liang) (1987)</th>\n",
              "      <td>2972.0</td>\n",
              "      <td>5.0</td>\n",
              "    </tr>\n",
              "    <tr>\n",
              "      <th>Thin Line Between Love and Hate, A (1996)</th>\n",
              "      <td>626.0</td>\n",
              "      <td>5.0</td>\n",
              "    </tr>\n",
              "    <tr>\n",
              "      <th>Lesson Faust (1994)</th>\n",
              "      <td>1151.0</td>\n",
              "      <td>5.0</td>\n",
              "    </tr>\n",
              "    <tr>\n",
              "      <th>Eva (2011)</th>\n",
              "      <td>94810.0</td>\n",
              "      <td>5.0</td>\n",
              "    </tr>\n",
              "    <tr>\n",
              "      <th>Who Killed Chea Vichea? (2010)</th>\n",
              "      <td>152711.0</td>\n",
              "      <td>5.0</td>\n",
              "    </tr>\n",
              "    <tr>\n",
              "      <th>Siam Sunset (1999)</th>\n",
              "      <td>6402.0</td>\n",
              "      <td>5.0</td>\n",
              "    </tr>\n",
              "    <tr>\n",
              "      <th>Ex Drummer (2007)</th>\n",
              "      <td>59814.0</td>\n",
              "      <td>5.0</td>\n",
              "    </tr>\n",
              "    <tr>\n",
              "      <th>Reform School Girls (1986)</th>\n",
              "      <td>4180.0</td>\n",
              "      <td>5.0</td>\n",
              "    </tr>\n",
              "    <tr>\n",
              "      <th>Buzzard (2015)</th>\n",
              "      <td>132153.0</td>\n",
              "      <td>5.0</td>\n",
              "    </tr>\n",
              "    <tr>\n",
              "      <th>Hellbenders (2012)</th>\n",
              "      <td>118270.0</td>\n",
              "      <td>5.0</td>\n",
              "    </tr>\n",
              "    <tr>\n",
              "      <th>Heidi Fleiss: Hollywood Madam (1995)</th>\n",
              "      <td>99.0</td>\n",
              "      <td>5.0</td>\n",
              "    </tr>\n",
              "    <tr>\n",
              "      <th>My Left Eye Sees Ghosts (Ngo joh aan gin diy gwai) (2002)</th>\n",
              "      <td>96935.0</td>\n",
              "      <td>5.0</td>\n",
              "    </tr>\n",
              "    <tr>\n",
              "      <th>Animals are Beautiful People (1974)</th>\n",
              "      <td>6408.0</td>\n",
              "      <td>5.0</td>\n",
              "    </tr>\n",
              "    <tr>\n",
              "      <th>My Life as McDull (Mak dau goo si) (2001)</th>\n",
              "      <td>87834.0</td>\n",
              "      <td>5.0</td>\n",
              "    </tr>\n",
              "    <tr>\n",
              "      <th>My Love (2006)</th>\n",
              "      <td>134095.0</td>\n",
              "      <td>5.0</td>\n",
              "    </tr>\n",
              "    <tr>\n",
              "      <th>My Man Godfrey (1957)</th>\n",
              "      <td>3096.0</td>\n",
              "      <td>5.0</td>\n",
              "    </tr>\n",
              "  </tbody>\n",
              "</table>\n",
              "</div>"
            ],
            "text/plain": [
              "                                                    FILME_ID  NOTA\n",
              "TITULO                                                            \n",
              "Gena the Crocodile (1969)                           175293.0   5.0\n",
              "True Stories (1986)                                   7815.0   5.0\n",
              "Cosmic Scrat-tastrophe (2015)                       146684.0   5.0\n",
              "Love and Pigeons (1985)                             130978.0   5.0\n",
              "Red Sorghum (Hong gao liang) (1987)                   2972.0   5.0\n",
              "Thin Line Between Love and Hate, A (1996)              626.0   5.0\n",
              "Lesson Faust (1994)                                   1151.0   5.0\n",
              "Eva (2011)                                           94810.0   5.0\n",
              "Who Killed Chea Vichea? (2010)                      152711.0   5.0\n",
              "Siam Sunset (1999)                                    6402.0   5.0\n",
              "Ex Drummer (2007)                                    59814.0   5.0\n",
              "Reform School Girls (1986)                            4180.0   5.0\n",
              "Buzzard (2015)                                      132153.0   5.0\n",
              "Hellbenders (2012)                                  118270.0   5.0\n",
              "Heidi Fleiss: Hollywood Madam (1995)                    99.0   5.0\n",
              "My Left Eye Sees Ghosts (Ngo joh aan gin diy gw...   96935.0   5.0\n",
              "Animals are Beautiful People (1974)                   6408.0   5.0\n",
              "My Life as McDull (Mak dau goo si) (2001)            87834.0   5.0\n",
              "My Love (2006)                                      134095.0   5.0\n",
              "My Man Godfrey (1957)                                 3096.0   5.0"
            ]
          },
          "metadata": {
            "tags": []
          },
          "execution_count": 10
        }
      ]
    },
    {
      "cell_type": "code",
      "metadata": {
        "id": "iEQHKG_3pzM4"
      },
      "source": [
        "#Removendo campo FILME_ID do index em join_movies_ratings\n",
        "join_movies_ratings.index = range(0,len(join_movies_ratings))"
      ],
      "execution_count": 11,
      "outputs": []
    },
    {
      "cell_type": "code",
      "metadata": {
        "id": "AVjnW6J-p-Jc"
      },
      "source": [
        "qtd_avaliacoes = join_movies_ratings.groupby(\"FILME_ID\")[\"NOTA\"].count()\n",
        "media_avaliacoes = ratings.groupby(\"FILME_ID\")[\"NOTA\"].mean()"
      ],
      "execution_count": 12,
      "outputs": []
    },
    {
      "cell_type": "code",
      "metadata": {
        "id": "21V3PRU7qB2E"
      },
      "source": [
        "movies[\"QTD_AVALIACOES\"] = qtd_avaliacoes\n",
        "movies[\"MEDIA_AVALIACOES\"] = media_avaliacoes"
      ],
      "execution_count": 13,
      "outputs": []
    },
    {
      "cell_type": "code",
      "metadata": {
        "id": "wPsLhBCSqEjN",
        "colab": {
          "base_uri": "https://localhost:8080/",
          "height": 1000
        },
        "outputId": "e9229c42-f27c-454e-e6d1-368dbbb26141"
      },
      "source": [
        "movies.head(50)"
      ],
      "execution_count": 14,
      "outputs": [
        {
          "output_type": "execute_result",
          "data": {
            "text/html": [
              "<div>\n",
              "<style scoped>\n",
              "    .dataframe tbody tr th:only-of-type {\n",
              "        vertical-align: middle;\n",
              "    }\n",
              "\n",
              "    .dataframe tbody tr th {\n",
              "        vertical-align: top;\n",
              "    }\n",
              "\n",
              "    .dataframe thead th {\n",
              "        text-align: right;\n",
              "    }\n",
              "</style>\n",
              "<table border=\"1\" class=\"dataframe\">\n",
              "  <thead>\n",
              "    <tr style=\"text-align: right;\">\n",
              "      <th></th>\n",
              "      <th>FILME_ID</th>\n",
              "      <th>TITULO</th>\n",
              "      <th>GENEROS</th>\n",
              "      <th>ANO_LANCAMENTO</th>\n",
              "      <th>QTD_AVALIACOES</th>\n",
              "      <th>MEDIA_AVALIACOES</th>\n",
              "    </tr>\n",
              "    <tr>\n",
              "      <th>FILME_ID</th>\n",
              "      <th></th>\n",
              "      <th></th>\n",
              "      <th></th>\n",
              "      <th></th>\n",
              "      <th></th>\n",
              "      <th></th>\n",
              "    </tr>\n",
              "  </thead>\n",
              "  <tbody>\n",
              "    <tr>\n",
              "      <th>1</th>\n",
              "      <td>1</td>\n",
              "      <td>Toy Story (1995)</td>\n",
              "      <td>Adventure|Animation|Children|Comedy|Fantasy</td>\n",
              "      <td>1995.0</td>\n",
              "      <td>215</td>\n",
              "      <td>3.920930</td>\n",
              "    </tr>\n",
              "    <tr>\n",
              "      <th>2</th>\n",
              "      <td>2</td>\n",
              "      <td>Jumanji (1995)</td>\n",
              "      <td>Adventure|Children|Fantasy</td>\n",
              "      <td>1995.0</td>\n",
              "      <td>110</td>\n",
              "      <td>3.431818</td>\n",
              "    </tr>\n",
              "    <tr>\n",
              "      <th>3</th>\n",
              "      <td>3</td>\n",
              "      <td>Grumpier Old Men (1995)</td>\n",
              "      <td>Comedy|Romance</td>\n",
              "      <td>1995.0</td>\n",
              "      <td>52</td>\n",
              "      <td>3.259615</td>\n",
              "    </tr>\n",
              "    <tr>\n",
              "      <th>4</th>\n",
              "      <td>4</td>\n",
              "      <td>Waiting to Exhale (1995)</td>\n",
              "      <td>Comedy|Drama|Romance</td>\n",
              "      <td>1995.0</td>\n",
              "      <td>7</td>\n",
              "      <td>2.357143</td>\n",
              "    </tr>\n",
              "    <tr>\n",
              "      <th>5</th>\n",
              "      <td>5</td>\n",
              "      <td>Father of the Bride Part II (1995)</td>\n",
              "      <td>Comedy</td>\n",
              "      <td>1995.0</td>\n",
              "      <td>49</td>\n",
              "      <td>3.071429</td>\n",
              "    </tr>\n",
              "    <tr>\n",
              "      <th>6</th>\n",
              "      <td>6</td>\n",
              "      <td>Heat (1995)</td>\n",
              "      <td>Action|Crime|Thriller</td>\n",
              "      <td>1995.0</td>\n",
              "      <td>102</td>\n",
              "      <td>3.946078</td>\n",
              "    </tr>\n",
              "    <tr>\n",
              "      <th>7</th>\n",
              "      <td>7</td>\n",
              "      <td>Sabrina (1995)</td>\n",
              "      <td>Comedy|Romance</td>\n",
              "      <td>1995.0</td>\n",
              "      <td>54</td>\n",
              "      <td>3.185185</td>\n",
              "    </tr>\n",
              "    <tr>\n",
              "      <th>8</th>\n",
              "      <td>8</td>\n",
              "      <td>Tom and Huck (1995)</td>\n",
              "      <td>Adventure|Children</td>\n",
              "      <td>1995.0</td>\n",
              "      <td>8</td>\n",
              "      <td>2.875000</td>\n",
              "    </tr>\n",
              "    <tr>\n",
              "      <th>9</th>\n",
              "      <td>9</td>\n",
              "      <td>Sudden Death (1995)</td>\n",
              "      <td>Action</td>\n",
              "      <td>1995.0</td>\n",
              "      <td>16</td>\n",
              "      <td>3.125000</td>\n",
              "    </tr>\n",
              "    <tr>\n",
              "      <th>10</th>\n",
              "      <td>10</td>\n",
              "      <td>GoldenEye (1995)</td>\n",
              "      <td>Action|Adventure|Thriller</td>\n",
              "      <td>1995.0</td>\n",
              "      <td>132</td>\n",
              "      <td>3.496212</td>\n",
              "    </tr>\n",
              "    <tr>\n",
              "      <th>11</th>\n",
              "      <td>11</td>\n",
              "      <td>American President, The (1995)</td>\n",
              "      <td>Comedy|Drama|Romance</td>\n",
              "      <td>1995.0</td>\n",
              "      <td>70</td>\n",
              "      <td>3.671429</td>\n",
              "    </tr>\n",
              "    <tr>\n",
              "      <th>12</th>\n",
              "      <td>12</td>\n",
              "      <td>Dracula: Dead and Loving It (1995)</td>\n",
              "      <td>Comedy|Horror</td>\n",
              "      <td>1995.0</td>\n",
              "      <td>19</td>\n",
              "      <td>2.421053</td>\n",
              "    </tr>\n",
              "    <tr>\n",
              "      <th>13</th>\n",
              "      <td>13</td>\n",
              "      <td>Balto (1995)</td>\n",
              "      <td>Adventure|Animation|Children</td>\n",
              "      <td>1995.0</td>\n",
              "      <td>8</td>\n",
              "      <td>3.125000</td>\n",
              "    </tr>\n",
              "    <tr>\n",
              "      <th>14</th>\n",
              "      <td>14</td>\n",
              "      <td>Nixon (1995)</td>\n",
              "      <td>Drama</td>\n",
              "      <td>1995.0</td>\n",
              "      <td>18</td>\n",
              "      <td>3.833333</td>\n",
              "    </tr>\n",
              "    <tr>\n",
              "      <th>15</th>\n",
              "      <td>15</td>\n",
              "      <td>Cutthroat Island (1995)</td>\n",
              "      <td>Action|Adventure|Romance</td>\n",
              "      <td>1995.0</td>\n",
              "      <td>13</td>\n",
              "      <td>3.000000</td>\n",
              "    </tr>\n",
              "    <tr>\n",
              "      <th>16</th>\n",
              "      <td>16</td>\n",
              "      <td>Casino (1995)</td>\n",
              "      <td>Crime|Drama</td>\n",
              "      <td>1995.0</td>\n",
              "      <td>82</td>\n",
              "      <td>3.926829</td>\n",
              "    </tr>\n",
              "    <tr>\n",
              "      <th>17</th>\n",
              "      <td>17</td>\n",
              "      <td>Sense and Sensibility (1995)</td>\n",
              "      <td>Drama|Romance</td>\n",
              "      <td>1995.0</td>\n",
              "      <td>67</td>\n",
              "      <td>3.776119</td>\n",
              "    </tr>\n",
              "    <tr>\n",
              "      <th>18</th>\n",
              "      <td>18</td>\n",
              "      <td>Four Rooms (1995)</td>\n",
              "      <td>Comedy</td>\n",
              "      <td>1995.0</td>\n",
              "      <td>20</td>\n",
              "      <td>3.700000</td>\n",
              "    </tr>\n",
              "    <tr>\n",
              "      <th>19</th>\n",
              "      <td>19</td>\n",
              "      <td>Ace Ventura: When Nature Calls (1995)</td>\n",
              "      <td>Comedy</td>\n",
              "      <td>1995.0</td>\n",
              "      <td>88</td>\n",
              "      <td>2.727273</td>\n",
              "    </tr>\n",
              "    <tr>\n",
              "      <th>20</th>\n",
              "      <td>20</td>\n",
              "      <td>Money Train (1995)</td>\n",
              "      <td>Action|Comedy|Crime|Drama|Thriller</td>\n",
              "      <td>1995.0</td>\n",
              "      <td>15</td>\n",
              "      <td>2.500000</td>\n",
              "    </tr>\n",
              "    <tr>\n",
              "      <th>21</th>\n",
              "      <td>21</td>\n",
              "      <td>Get Shorty (1995)</td>\n",
              "      <td>Comedy|Crime|Thriller</td>\n",
              "      <td>1995.0</td>\n",
              "      <td>89</td>\n",
              "      <td>3.494382</td>\n",
              "    </tr>\n",
              "    <tr>\n",
              "      <th>22</th>\n",
              "      <td>22</td>\n",
              "      <td>Copycat (1995)</td>\n",
              "      <td>Crime|Drama|Horror|Mystery|Thriller</td>\n",
              "      <td>1995.0</td>\n",
              "      <td>36</td>\n",
              "      <td>3.222222</td>\n",
              "    </tr>\n",
              "    <tr>\n",
              "      <th>23</th>\n",
              "      <td>23</td>\n",
              "      <td>Assassins (1995)</td>\n",
              "      <td>Action|Crime|Thriller</td>\n",
              "      <td>1995.0</td>\n",
              "      <td>16</td>\n",
              "      <td>3.125000</td>\n",
              "    </tr>\n",
              "    <tr>\n",
              "      <th>24</th>\n",
              "      <td>24</td>\n",
              "      <td>Powder (1995)</td>\n",
              "      <td>Drama|Sci-Fi</td>\n",
              "      <td>1995.0</td>\n",
              "      <td>28</td>\n",
              "      <td>3.125000</td>\n",
              "    </tr>\n",
              "    <tr>\n",
              "      <th>25</th>\n",
              "      <td>25</td>\n",
              "      <td>Leaving Las Vegas (1995)</td>\n",
              "      <td>Drama|Romance</td>\n",
              "      <td>1995.0</td>\n",
              "      <td>76</td>\n",
              "      <td>3.625000</td>\n",
              "    </tr>\n",
              "    <tr>\n",
              "      <th>26</th>\n",
              "      <td>26</td>\n",
              "      <td>Othello (1995)</td>\n",
              "      <td>Drama</td>\n",
              "      <td>1995.0</td>\n",
              "      <td>13</td>\n",
              "      <td>3.500000</td>\n",
              "    </tr>\n",
              "    <tr>\n",
              "      <th>27</th>\n",
              "      <td>27</td>\n",
              "      <td>Now and Then (1995)</td>\n",
              "      <td>Children|Drama</td>\n",
              "      <td>1995.0</td>\n",
              "      <td>9</td>\n",
              "      <td>3.333333</td>\n",
              "    </tr>\n",
              "    <tr>\n",
              "      <th>28</th>\n",
              "      <td>28</td>\n",
              "      <td>Persuasion (1995)</td>\n",
              "      <td>Drama|Romance</td>\n",
              "      <td>1995.0</td>\n",
              "      <td>11</td>\n",
              "      <td>4.227273</td>\n",
              "    </tr>\n",
              "    <tr>\n",
              "      <th>29</th>\n",
              "      <td>29</td>\n",
              "      <td>City of Lost Children, The (Cité des enfants p...</td>\n",
              "      <td>Adventure|Drama|Fantasy|Mystery|Sci-Fi</td>\n",
              "      <td>1995.0</td>\n",
              "      <td>38</td>\n",
              "      <td>4.013158</td>\n",
              "    </tr>\n",
              "    <tr>\n",
              "      <th>30</th>\n",
              "      <td>30</td>\n",
              "      <td>Shanghai Triad (Yao a yao yao dao waipo qiao) ...</td>\n",
              "      <td>Crime|Drama</td>\n",
              "      <td>1995.0</td>\n",
              "      <td>3</td>\n",
              "      <td>3.000000</td>\n",
              "    </tr>\n",
              "    <tr>\n",
              "      <th>31</th>\n",
              "      <td>31</td>\n",
              "      <td>Dangerous Minds (1995)</td>\n",
              "      <td>Drama</td>\n",
              "      <td>1995.0</td>\n",
              "      <td>38</td>\n",
              "      <td>3.184211</td>\n",
              "    </tr>\n",
              "    <tr>\n",
              "      <th>32</th>\n",
              "      <td>32</td>\n",
              "      <td>Twelve Monkeys (a.k.a. 12 Monkeys) (1995)</td>\n",
              "      <td>Mystery|Sci-Fi|Thriller</td>\n",
              "      <td>1995.0</td>\n",
              "      <td>177</td>\n",
              "      <td>3.983051</td>\n",
              "    </tr>\n",
              "    <tr>\n",
              "      <th>34</th>\n",
              "      <td>34</td>\n",
              "      <td>Babe (1995)</td>\n",
              "      <td>Children|Drama</td>\n",
              "      <td>1995.0</td>\n",
              "      <td>128</td>\n",
              "      <td>3.652344</td>\n",
              "    </tr>\n",
              "    <tr>\n",
              "      <th>36</th>\n",
              "      <td>36</td>\n",
              "      <td>Dead Man Walking (1995)</td>\n",
              "      <td>Crime|Drama</td>\n",
              "      <td>1995.0</td>\n",
              "      <td>67</td>\n",
              "      <td>3.835821</td>\n",
              "    </tr>\n",
              "    <tr>\n",
              "      <th>38</th>\n",
              "      <td>38</td>\n",
              "      <td>It Takes Two (1995)</td>\n",
              "      <td>Children|Comedy</td>\n",
              "      <td>1995.0</td>\n",
              "      <td>4</td>\n",
              "      <td>2.125000</td>\n",
              "    </tr>\n",
              "    <tr>\n",
              "      <th>39</th>\n",
              "      <td>39</td>\n",
              "      <td>Clueless (1995)</td>\n",
              "      <td>Comedy|Romance</td>\n",
              "      <td>1995.0</td>\n",
              "      <td>104</td>\n",
              "      <td>3.293269</td>\n",
              "    </tr>\n",
              "    <tr>\n",
              "      <th>40</th>\n",
              "      <td>40</td>\n",
              "      <td>Cry, the Beloved Country (1995)</td>\n",
              "      <td>Drama</td>\n",
              "      <td>1995.0</td>\n",
              "      <td>2</td>\n",
              "      <td>4.250000</td>\n",
              "    </tr>\n",
              "    <tr>\n",
              "      <th>41</th>\n",
              "      <td>41</td>\n",
              "      <td>Richard III (1995)</td>\n",
              "      <td>Drama|War</td>\n",
              "      <td>1995.0</td>\n",
              "      <td>15</td>\n",
              "      <td>3.700000</td>\n",
              "    </tr>\n",
              "    <tr>\n",
              "      <th>42</th>\n",
              "      <td>42</td>\n",
              "      <td>Dead Presidents (1995)</td>\n",
              "      <td>Action|Crime|Drama</td>\n",
              "      <td>1995.0</td>\n",
              "      <td>7</td>\n",
              "      <td>3.000000</td>\n",
              "    </tr>\n",
              "    <tr>\n",
              "      <th>43</th>\n",
              "      <td>43</td>\n",
              "      <td>Restoration (1995)</td>\n",
              "      <td>Drama</td>\n",
              "      <td>1995.0</td>\n",
              "      <td>8</td>\n",
              "      <td>3.187500</td>\n",
              "    </tr>\n",
              "    <tr>\n",
              "      <th>44</th>\n",
              "      <td>44</td>\n",
              "      <td>Mortal Kombat (1995)</td>\n",
              "      <td>Action|Adventure|Fantasy</td>\n",
              "      <td>1995.0</td>\n",
              "      <td>46</td>\n",
              "      <td>2.543478</td>\n",
              "    </tr>\n",
              "    <tr>\n",
              "      <th>45</th>\n",
              "      <td>45</td>\n",
              "      <td>To Die For (1995)</td>\n",
              "      <td>Comedy|Drama|Thriller</td>\n",
              "      <td>1995.0</td>\n",
              "      <td>32</td>\n",
              "      <td>3.312500</td>\n",
              "    </tr>\n",
              "    <tr>\n",
              "      <th>46</th>\n",
              "      <td>46</td>\n",
              "      <td>How to Make an American Quilt (1995)</td>\n",
              "      <td>Drama|Romance</td>\n",
              "      <td>1995.0</td>\n",
              "      <td>15</td>\n",
              "      <td>3.066667</td>\n",
              "    </tr>\n",
              "    <tr>\n",
              "      <th>47</th>\n",
              "      <td>47</td>\n",
              "      <td>Seven (a.k.a. Se7en) (1995)</td>\n",
              "      <td>Mystery|Thriller</td>\n",
              "      <td>1995.0</td>\n",
              "      <td>203</td>\n",
              "      <td>3.975369</td>\n",
              "    </tr>\n",
              "    <tr>\n",
              "      <th>48</th>\n",
              "      <td>48</td>\n",
              "      <td>Pocahontas (1995)</td>\n",
              "      <td>Animation|Children|Drama|Musical|Romance</td>\n",
              "      <td>1995.0</td>\n",
              "      <td>68</td>\n",
              "      <td>3.147059</td>\n",
              "    </tr>\n",
              "    <tr>\n",
              "      <th>49</th>\n",
              "      <td>49</td>\n",
              "      <td>When Night Is Falling (1995)</td>\n",
              "      <td>Drama|Romance</td>\n",
              "      <td>1995.0</td>\n",
              "      <td>1</td>\n",
              "      <td>3.000000</td>\n",
              "    </tr>\n",
              "    <tr>\n",
              "      <th>50</th>\n",
              "      <td>50</td>\n",
              "      <td>Usual Suspects, The (1995)</td>\n",
              "      <td>Crime|Mystery|Thriller</td>\n",
              "      <td>1995.0</td>\n",
              "      <td>204</td>\n",
              "      <td>4.237745</td>\n",
              "    </tr>\n",
              "    <tr>\n",
              "      <th>52</th>\n",
              "      <td>52</td>\n",
              "      <td>Mighty Aphrodite (1995)</td>\n",
              "      <td>Comedy|Drama|Romance</td>\n",
              "      <td>1995.0</td>\n",
              "      <td>28</td>\n",
              "      <td>3.464286</td>\n",
              "    </tr>\n",
              "    <tr>\n",
              "      <th>53</th>\n",
              "      <td>53</td>\n",
              "      <td>Lamerica (1994)</td>\n",
              "      <td>Adventure|Drama</td>\n",
              "      <td>1994.0</td>\n",
              "      <td>2</td>\n",
              "      <td>5.000000</td>\n",
              "    </tr>\n",
              "    <tr>\n",
              "      <th>54</th>\n",
              "      <td>54</td>\n",
              "      <td>Big Green, The (1995)</td>\n",
              "      <td>Children|Comedy</td>\n",
              "      <td>1995.0</td>\n",
              "      <td>3</td>\n",
              "      <td>2.333333</td>\n",
              "    </tr>\n",
              "  </tbody>\n",
              "</table>\n",
              "</div>"
            ],
            "text/plain": [
              "          FILME_ID  ... MEDIA_AVALIACOES\n",
              "FILME_ID            ...                 \n",
              "1                1  ...         3.920930\n",
              "2                2  ...         3.431818\n",
              "3                3  ...         3.259615\n",
              "4                4  ...         2.357143\n",
              "5                5  ...         3.071429\n",
              "6                6  ...         3.946078\n",
              "7                7  ...         3.185185\n",
              "8                8  ...         2.875000\n",
              "9                9  ...         3.125000\n",
              "10              10  ...         3.496212\n",
              "11              11  ...         3.671429\n",
              "12              12  ...         2.421053\n",
              "13              13  ...         3.125000\n",
              "14              14  ...         3.833333\n",
              "15              15  ...         3.000000\n",
              "16              16  ...         3.926829\n",
              "17              17  ...         3.776119\n",
              "18              18  ...         3.700000\n",
              "19              19  ...         2.727273\n",
              "20              20  ...         2.500000\n",
              "21              21  ...         3.494382\n",
              "22              22  ...         3.222222\n",
              "23              23  ...         3.125000\n",
              "24              24  ...         3.125000\n",
              "25              25  ...         3.625000\n",
              "26              26  ...         3.500000\n",
              "27              27  ...         3.333333\n",
              "28              28  ...         4.227273\n",
              "29              29  ...         4.013158\n",
              "30              30  ...         3.000000\n",
              "31              31  ...         3.184211\n",
              "32              32  ...         3.983051\n",
              "34              34  ...         3.652344\n",
              "36              36  ...         3.835821\n",
              "38              38  ...         2.125000\n",
              "39              39  ...         3.293269\n",
              "40              40  ...         4.250000\n",
              "41              41  ...         3.700000\n",
              "42              42  ...         3.000000\n",
              "43              43  ...         3.187500\n",
              "44              44  ...         2.543478\n",
              "45              45  ...         3.312500\n",
              "46              46  ...         3.066667\n",
              "47              47  ...         3.975369\n",
              "48              48  ...         3.147059\n",
              "49              49  ...         3.000000\n",
              "50              50  ...         4.237745\n",
              "52              52  ...         3.464286\n",
              "53              53  ...         5.000000\n",
              "54              54  ...         2.333333\n",
              "\n",
              "[50 rows x 6 columns]"
            ]
          },
          "metadata": {
            "tags": []
          },
          "execution_count": 14
        }
      ]
    },
    {
      "cell_type": "markdown",
      "metadata": {
        "id": "yXxK7_0qz6ZB"
      },
      "source": [
        "## Separando a coluna `generos` em diversas colunas."
      ]
    },
    {
      "cell_type": "code",
      "metadata": {
        "colab": {
          "base_uri": "https://localhost:8080/"
        },
        "id": "M8qRbD9y0GIR",
        "outputId": "6d612761-f3f0-469c-f382-b853f4cbd727"
      },
      "source": [
        "movies['GENEROS'] = movies['GENEROS'].str.replace('-', '')\n",
        "generos = movies['GENEROS'].str.get_dummies()\n",
        "print(\"Temos %d generos distintos\" % generos.shape[1])"
      ],
      "execution_count": 15,
      "outputs": [
        {
          "output_type": "stream",
          "text": [
            "Temos 20 generos distintos\n"
          ],
          "name": "stdout"
        }
      ]
    },
    {
      "cell_type": "code",
      "metadata": {
        "id": "yzZ03ZPC0Jk1",
        "colab": {
          "base_uri": "https://localhost:8080/",
          "height": 431
        },
        "outputId": "9392e4e2-c398-4df1-a181-7465dc7c3897"
      },
      "source": [
        "movies = movies.join(generos).drop(columns=['GENEROS'], axis=1)\n",
        "movies.head()"
      ],
      "execution_count": 16,
      "outputs": [
        {
          "output_type": "execute_result",
          "data": {
            "text/html": [
              "<div>\n",
              "<style scoped>\n",
              "    .dataframe tbody tr th:only-of-type {\n",
              "        vertical-align: middle;\n",
              "    }\n",
              "\n",
              "    .dataframe tbody tr th {\n",
              "        vertical-align: top;\n",
              "    }\n",
              "\n",
              "    .dataframe thead th {\n",
              "        text-align: right;\n",
              "    }\n",
              "</style>\n",
              "<table border=\"1\" class=\"dataframe\">\n",
              "  <thead>\n",
              "    <tr style=\"text-align: right;\">\n",
              "      <th></th>\n",
              "      <th>FILME_ID</th>\n",
              "      <th>TITULO</th>\n",
              "      <th>ANO_LANCAMENTO</th>\n",
              "      <th>QTD_AVALIACOES</th>\n",
              "      <th>MEDIA_AVALIACOES</th>\n",
              "      <th>(no genres listed)</th>\n",
              "      <th>Action</th>\n",
              "      <th>Adventure</th>\n",
              "      <th>Animation</th>\n",
              "      <th>Children</th>\n",
              "      <th>Comedy</th>\n",
              "      <th>Crime</th>\n",
              "      <th>Documentary</th>\n",
              "      <th>Drama</th>\n",
              "      <th>Fantasy</th>\n",
              "      <th>FilmNoir</th>\n",
              "      <th>Horror</th>\n",
              "      <th>IMAX</th>\n",
              "      <th>Musical</th>\n",
              "      <th>Mystery</th>\n",
              "      <th>Romance</th>\n",
              "      <th>SciFi</th>\n",
              "      <th>Thriller</th>\n",
              "      <th>War</th>\n",
              "      <th>Western</th>\n",
              "    </tr>\n",
              "    <tr>\n",
              "      <th>FILME_ID</th>\n",
              "      <th></th>\n",
              "      <th></th>\n",
              "      <th></th>\n",
              "      <th></th>\n",
              "      <th></th>\n",
              "      <th></th>\n",
              "      <th></th>\n",
              "      <th></th>\n",
              "      <th></th>\n",
              "      <th></th>\n",
              "      <th></th>\n",
              "      <th></th>\n",
              "      <th></th>\n",
              "      <th></th>\n",
              "      <th></th>\n",
              "      <th></th>\n",
              "      <th></th>\n",
              "      <th></th>\n",
              "      <th></th>\n",
              "      <th></th>\n",
              "      <th></th>\n",
              "      <th></th>\n",
              "      <th></th>\n",
              "      <th></th>\n",
              "      <th></th>\n",
              "    </tr>\n",
              "  </thead>\n",
              "  <tbody>\n",
              "    <tr>\n",
              "      <th>1</th>\n",
              "      <td>1</td>\n",
              "      <td>Toy Story (1995)</td>\n",
              "      <td>1995.0</td>\n",
              "      <td>215</td>\n",
              "      <td>3.920930</td>\n",
              "      <td>0</td>\n",
              "      <td>0</td>\n",
              "      <td>1</td>\n",
              "      <td>1</td>\n",
              "      <td>1</td>\n",
              "      <td>1</td>\n",
              "      <td>0</td>\n",
              "      <td>0</td>\n",
              "      <td>0</td>\n",
              "      <td>1</td>\n",
              "      <td>0</td>\n",
              "      <td>0</td>\n",
              "      <td>0</td>\n",
              "      <td>0</td>\n",
              "      <td>0</td>\n",
              "      <td>0</td>\n",
              "      <td>0</td>\n",
              "      <td>0</td>\n",
              "      <td>0</td>\n",
              "      <td>0</td>\n",
              "    </tr>\n",
              "    <tr>\n",
              "      <th>2</th>\n",
              "      <td>2</td>\n",
              "      <td>Jumanji (1995)</td>\n",
              "      <td>1995.0</td>\n",
              "      <td>110</td>\n",
              "      <td>3.431818</td>\n",
              "      <td>0</td>\n",
              "      <td>0</td>\n",
              "      <td>1</td>\n",
              "      <td>0</td>\n",
              "      <td>1</td>\n",
              "      <td>0</td>\n",
              "      <td>0</td>\n",
              "      <td>0</td>\n",
              "      <td>0</td>\n",
              "      <td>1</td>\n",
              "      <td>0</td>\n",
              "      <td>0</td>\n",
              "      <td>0</td>\n",
              "      <td>0</td>\n",
              "      <td>0</td>\n",
              "      <td>0</td>\n",
              "      <td>0</td>\n",
              "      <td>0</td>\n",
              "      <td>0</td>\n",
              "      <td>0</td>\n",
              "    </tr>\n",
              "    <tr>\n",
              "      <th>3</th>\n",
              "      <td>3</td>\n",
              "      <td>Grumpier Old Men (1995)</td>\n",
              "      <td>1995.0</td>\n",
              "      <td>52</td>\n",
              "      <td>3.259615</td>\n",
              "      <td>0</td>\n",
              "      <td>0</td>\n",
              "      <td>0</td>\n",
              "      <td>0</td>\n",
              "      <td>0</td>\n",
              "      <td>1</td>\n",
              "      <td>0</td>\n",
              "      <td>0</td>\n",
              "      <td>0</td>\n",
              "      <td>0</td>\n",
              "      <td>0</td>\n",
              "      <td>0</td>\n",
              "      <td>0</td>\n",
              "      <td>0</td>\n",
              "      <td>0</td>\n",
              "      <td>1</td>\n",
              "      <td>0</td>\n",
              "      <td>0</td>\n",
              "      <td>0</td>\n",
              "      <td>0</td>\n",
              "    </tr>\n",
              "    <tr>\n",
              "      <th>4</th>\n",
              "      <td>4</td>\n",
              "      <td>Waiting to Exhale (1995)</td>\n",
              "      <td>1995.0</td>\n",
              "      <td>7</td>\n",
              "      <td>2.357143</td>\n",
              "      <td>0</td>\n",
              "      <td>0</td>\n",
              "      <td>0</td>\n",
              "      <td>0</td>\n",
              "      <td>0</td>\n",
              "      <td>1</td>\n",
              "      <td>0</td>\n",
              "      <td>0</td>\n",
              "      <td>1</td>\n",
              "      <td>0</td>\n",
              "      <td>0</td>\n",
              "      <td>0</td>\n",
              "      <td>0</td>\n",
              "      <td>0</td>\n",
              "      <td>0</td>\n",
              "      <td>1</td>\n",
              "      <td>0</td>\n",
              "      <td>0</td>\n",
              "      <td>0</td>\n",
              "      <td>0</td>\n",
              "    </tr>\n",
              "    <tr>\n",
              "      <th>5</th>\n",
              "      <td>5</td>\n",
              "      <td>Father of the Bride Part II (1995)</td>\n",
              "      <td>1995.0</td>\n",
              "      <td>49</td>\n",
              "      <td>3.071429</td>\n",
              "      <td>0</td>\n",
              "      <td>0</td>\n",
              "      <td>0</td>\n",
              "      <td>0</td>\n",
              "      <td>0</td>\n",
              "      <td>1</td>\n",
              "      <td>0</td>\n",
              "      <td>0</td>\n",
              "      <td>0</td>\n",
              "      <td>0</td>\n",
              "      <td>0</td>\n",
              "      <td>0</td>\n",
              "      <td>0</td>\n",
              "      <td>0</td>\n",
              "      <td>0</td>\n",
              "      <td>0</td>\n",
              "      <td>0</td>\n",
              "      <td>0</td>\n",
              "      <td>0</td>\n",
              "      <td>0</td>\n",
              "    </tr>\n",
              "  </tbody>\n",
              "</table>\n",
              "</div>"
            ],
            "text/plain": [
              "          FILME_ID                              TITULO  ...  War  Western\n",
              "FILME_ID                                                ...              \n",
              "1                1                    Toy Story (1995)  ...    0        0\n",
              "2                2                      Jumanji (1995)  ...    0        0\n",
              "3                3             Grumpier Old Men (1995)  ...    0        0\n",
              "4                4            Waiting to Exhale (1995)  ...    0        0\n",
              "5                5  Father of the Bride Part II (1995)  ...    0        0\n",
              "\n",
              "[5 rows x 25 columns]"
            ]
          },
          "metadata": {
            "tags": []
          },
          "execution_count": 16
        }
      ]
    },
    {
      "cell_type": "markdown",
      "metadata": {
        "id": "wgXcJzhIF1Ad"
      },
      "source": [
        "## DATAFRAME Apenas filmes com mais de 50 avaliaçoes (movies_50mais_avaliacoes)"
      ]
    },
    {
      "cell_type": "markdown",
      "metadata": {
        "id": "NDotrUnCLEPs"
      },
      "source": [
        "**Para uma maior acertividade para os indicadores, essa base sempre será utilizada, e apenas nestes casos, quando a análise envolver a média das avaliações!(Média das notas)**"
      ]
    },
    {
      "cell_type": "code",
      "metadata": {
        "id": "QFBhz_Tlxfxs",
        "colab": {
          "base_uri": "https://localhost:8080/",
          "height": 773
        },
        "outputId": "e7ee3d32-d5d9-4a27-e352-649655c8006d"
      },
      "source": [
        "# ---> Removendo filmes que possuem menos que 50 avaliações\n",
        "\n",
        "movies_50mais_avaliacoes = movies.query(\"QTD_AVALIACOES > 49\") \n",
        "movies_50mais_avaliacoes"
      ],
      "execution_count": 17,
      "outputs": [
        {
          "output_type": "execute_result",
          "data": {
            "text/html": [
              "<div>\n",
              "<style scoped>\n",
              "    .dataframe tbody tr th:only-of-type {\n",
              "        vertical-align: middle;\n",
              "    }\n",
              "\n",
              "    .dataframe tbody tr th {\n",
              "        vertical-align: top;\n",
              "    }\n",
              "\n",
              "    .dataframe thead th {\n",
              "        text-align: right;\n",
              "    }\n",
              "</style>\n",
              "<table border=\"1\" class=\"dataframe\">\n",
              "  <thead>\n",
              "    <tr style=\"text-align: right;\">\n",
              "      <th></th>\n",
              "      <th>FILME_ID</th>\n",
              "      <th>TITULO</th>\n",
              "      <th>ANO_LANCAMENTO</th>\n",
              "      <th>QTD_AVALIACOES</th>\n",
              "      <th>MEDIA_AVALIACOES</th>\n",
              "      <th>(no genres listed)</th>\n",
              "      <th>Action</th>\n",
              "      <th>Adventure</th>\n",
              "      <th>Animation</th>\n",
              "      <th>Children</th>\n",
              "      <th>Comedy</th>\n",
              "      <th>Crime</th>\n",
              "      <th>Documentary</th>\n",
              "      <th>Drama</th>\n",
              "      <th>Fantasy</th>\n",
              "      <th>FilmNoir</th>\n",
              "      <th>Horror</th>\n",
              "      <th>IMAX</th>\n",
              "      <th>Musical</th>\n",
              "      <th>Mystery</th>\n",
              "      <th>Romance</th>\n",
              "      <th>SciFi</th>\n",
              "      <th>Thriller</th>\n",
              "      <th>War</th>\n",
              "      <th>Western</th>\n",
              "    </tr>\n",
              "    <tr>\n",
              "      <th>FILME_ID</th>\n",
              "      <th></th>\n",
              "      <th></th>\n",
              "      <th></th>\n",
              "      <th></th>\n",
              "      <th></th>\n",
              "      <th></th>\n",
              "      <th></th>\n",
              "      <th></th>\n",
              "      <th></th>\n",
              "      <th></th>\n",
              "      <th></th>\n",
              "      <th></th>\n",
              "      <th></th>\n",
              "      <th></th>\n",
              "      <th></th>\n",
              "      <th></th>\n",
              "      <th></th>\n",
              "      <th></th>\n",
              "      <th></th>\n",
              "      <th></th>\n",
              "      <th></th>\n",
              "      <th></th>\n",
              "      <th></th>\n",
              "      <th></th>\n",
              "      <th></th>\n",
              "    </tr>\n",
              "  </thead>\n",
              "  <tbody>\n",
              "    <tr>\n",
              "      <th>1</th>\n",
              "      <td>1</td>\n",
              "      <td>Toy Story (1995)</td>\n",
              "      <td>1995.0</td>\n",
              "      <td>215</td>\n",
              "      <td>3.920930</td>\n",
              "      <td>0</td>\n",
              "      <td>0</td>\n",
              "      <td>1</td>\n",
              "      <td>1</td>\n",
              "      <td>1</td>\n",
              "      <td>1</td>\n",
              "      <td>0</td>\n",
              "      <td>0</td>\n",
              "      <td>0</td>\n",
              "      <td>1</td>\n",
              "      <td>0</td>\n",
              "      <td>0</td>\n",
              "      <td>0</td>\n",
              "      <td>0</td>\n",
              "      <td>0</td>\n",
              "      <td>0</td>\n",
              "      <td>0</td>\n",
              "      <td>0</td>\n",
              "      <td>0</td>\n",
              "      <td>0</td>\n",
              "    </tr>\n",
              "    <tr>\n",
              "      <th>2</th>\n",
              "      <td>2</td>\n",
              "      <td>Jumanji (1995)</td>\n",
              "      <td>1995.0</td>\n",
              "      <td>110</td>\n",
              "      <td>3.431818</td>\n",
              "      <td>0</td>\n",
              "      <td>0</td>\n",
              "      <td>1</td>\n",
              "      <td>0</td>\n",
              "      <td>1</td>\n",
              "      <td>0</td>\n",
              "      <td>0</td>\n",
              "      <td>0</td>\n",
              "      <td>0</td>\n",
              "      <td>1</td>\n",
              "      <td>0</td>\n",
              "      <td>0</td>\n",
              "      <td>0</td>\n",
              "      <td>0</td>\n",
              "      <td>0</td>\n",
              "      <td>0</td>\n",
              "      <td>0</td>\n",
              "      <td>0</td>\n",
              "      <td>0</td>\n",
              "      <td>0</td>\n",
              "    </tr>\n",
              "    <tr>\n",
              "      <th>3</th>\n",
              "      <td>3</td>\n",
              "      <td>Grumpier Old Men (1995)</td>\n",
              "      <td>1995.0</td>\n",
              "      <td>52</td>\n",
              "      <td>3.259615</td>\n",
              "      <td>0</td>\n",
              "      <td>0</td>\n",
              "      <td>0</td>\n",
              "      <td>0</td>\n",
              "      <td>0</td>\n",
              "      <td>1</td>\n",
              "      <td>0</td>\n",
              "      <td>0</td>\n",
              "      <td>0</td>\n",
              "      <td>0</td>\n",
              "      <td>0</td>\n",
              "      <td>0</td>\n",
              "      <td>0</td>\n",
              "      <td>0</td>\n",
              "      <td>0</td>\n",
              "      <td>1</td>\n",
              "      <td>0</td>\n",
              "      <td>0</td>\n",
              "      <td>0</td>\n",
              "      <td>0</td>\n",
              "    </tr>\n",
              "    <tr>\n",
              "      <th>6</th>\n",
              "      <td>6</td>\n",
              "      <td>Heat (1995)</td>\n",
              "      <td>1995.0</td>\n",
              "      <td>102</td>\n",
              "      <td>3.946078</td>\n",
              "      <td>0</td>\n",
              "      <td>1</td>\n",
              "      <td>0</td>\n",
              "      <td>0</td>\n",
              "      <td>0</td>\n",
              "      <td>0</td>\n",
              "      <td>1</td>\n",
              "      <td>0</td>\n",
              "      <td>0</td>\n",
              "      <td>0</td>\n",
              "      <td>0</td>\n",
              "      <td>0</td>\n",
              "      <td>0</td>\n",
              "      <td>0</td>\n",
              "      <td>0</td>\n",
              "      <td>0</td>\n",
              "      <td>0</td>\n",
              "      <td>1</td>\n",
              "      <td>0</td>\n",
              "      <td>0</td>\n",
              "    </tr>\n",
              "    <tr>\n",
              "      <th>7</th>\n",
              "      <td>7</td>\n",
              "      <td>Sabrina (1995)</td>\n",
              "      <td>1995.0</td>\n",
              "      <td>54</td>\n",
              "      <td>3.185185</td>\n",
              "      <td>0</td>\n",
              "      <td>0</td>\n",
              "      <td>0</td>\n",
              "      <td>0</td>\n",
              "      <td>0</td>\n",
              "      <td>1</td>\n",
              "      <td>0</td>\n",
              "      <td>0</td>\n",
              "      <td>0</td>\n",
              "      <td>0</td>\n",
              "      <td>0</td>\n",
              "      <td>0</td>\n",
              "      <td>0</td>\n",
              "      <td>0</td>\n",
              "      <td>0</td>\n",
              "      <td>1</td>\n",
              "      <td>0</td>\n",
              "      <td>0</td>\n",
              "      <td>0</td>\n",
              "      <td>0</td>\n",
              "    </tr>\n",
              "    <tr>\n",
              "      <th>...</th>\n",
              "      <td>...</td>\n",
              "      <td>...</td>\n",
              "      <td>...</td>\n",
              "      <td>...</td>\n",
              "      <td>...</td>\n",
              "      <td>...</td>\n",
              "      <td>...</td>\n",
              "      <td>...</td>\n",
              "      <td>...</td>\n",
              "      <td>...</td>\n",
              "      <td>...</td>\n",
              "      <td>...</td>\n",
              "      <td>...</td>\n",
              "      <td>...</td>\n",
              "      <td>...</td>\n",
              "      <td>...</td>\n",
              "      <td>...</td>\n",
              "      <td>...</td>\n",
              "      <td>...</td>\n",
              "      <td>...</td>\n",
              "      <td>...</td>\n",
              "      <td>...</td>\n",
              "      <td>...</td>\n",
              "      <td>...</td>\n",
              "      <td>...</td>\n",
              "    </tr>\n",
              "    <tr>\n",
              "      <th>109374</th>\n",
              "      <td>109374</td>\n",
              "      <td>Grand Budapest Hotel, The (2014)</td>\n",
              "      <td>2014.0</td>\n",
              "      <td>52</td>\n",
              "      <td>3.778846</td>\n",
              "      <td>0</td>\n",
              "      <td>0</td>\n",
              "      <td>0</td>\n",
              "      <td>0</td>\n",
              "      <td>0</td>\n",
              "      <td>1</td>\n",
              "      <td>0</td>\n",
              "      <td>0</td>\n",
              "      <td>1</td>\n",
              "      <td>0</td>\n",
              "      <td>0</td>\n",
              "      <td>0</td>\n",
              "      <td>0</td>\n",
              "      <td>0</td>\n",
              "      <td>0</td>\n",
              "      <td>0</td>\n",
              "      <td>0</td>\n",
              "      <td>0</td>\n",
              "      <td>0</td>\n",
              "      <td>0</td>\n",
              "    </tr>\n",
              "    <tr>\n",
              "      <th>109487</th>\n",
              "      <td>109487</td>\n",
              "      <td>Interstellar (2014)</td>\n",
              "      <td>2014.0</td>\n",
              "      <td>73</td>\n",
              "      <td>3.993151</td>\n",
              "      <td>0</td>\n",
              "      <td>0</td>\n",
              "      <td>0</td>\n",
              "      <td>0</td>\n",
              "      <td>0</td>\n",
              "      <td>0</td>\n",
              "      <td>0</td>\n",
              "      <td>0</td>\n",
              "      <td>0</td>\n",
              "      <td>0</td>\n",
              "      <td>0</td>\n",
              "      <td>0</td>\n",
              "      <td>1</td>\n",
              "      <td>0</td>\n",
              "      <td>0</td>\n",
              "      <td>0</td>\n",
              "      <td>1</td>\n",
              "      <td>0</td>\n",
              "      <td>0</td>\n",
              "      <td>0</td>\n",
              "    </tr>\n",
              "    <tr>\n",
              "      <th>112852</th>\n",
              "      <td>112852</td>\n",
              "      <td>Guardians of the Galaxy (2014)</td>\n",
              "      <td>2014.0</td>\n",
              "      <td>59</td>\n",
              "      <td>4.050847</td>\n",
              "      <td>0</td>\n",
              "      <td>1</td>\n",
              "      <td>1</td>\n",
              "      <td>0</td>\n",
              "      <td>0</td>\n",
              "      <td>0</td>\n",
              "      <td>0</td>\n",
              "      <td>0</td>\n",
              "      <td>0</td>\n",
              "      <td>0</td>\n",
              "      <td>0</td>\n",
              "      <td>0</td>\n",
              "      <td>0</td>\n",
              "      <td>0</td>\n",
              "      <td>0</td>\n",
              "      <td>0</td>\n",
              "      <td>1</td>\n",
              "      <td>0</td>\n",
              "      <td>0</td>\n",
              "      <td>0</td>\n",
              "    </tr>\n",
              "    <tr>\n",
              "      <th>116797</th>\n",
              "      <td>116797</td>\n",
              "      <td>The Imitation Game (2014)</td>\n",
              "      <td>2014.0</td>\n",
              "      <td>50</td>\n",
              "      <td>4.020000</td>\n",
              "      <td>0</td>\n",
              "      <td>0</td>\n",
              "      <td>0</td>\n",
              "      <td>0</td>\n",
              "      <td>0</td>\n",
              "      <td>0</td>\n",
              "      <td>0</td>\n",
              "      <td>0</td>\n",
              "      <td>1</td>\n",
              "      <td>0</td>\n",
              "      <td>0</td>\n",
              "      <td>0</td>\n",
              "      <td>0</td>\n",
              "      <td>0</td>\n",
              "      <td>0</td>\n",
              "      <td>0</td>\n",
              "      <td>0</td>\n",
              "      <td>1</td>\n",
              "      <td>1</td>\n",
              "      <td>0</td>\n",
              "    </tr>\n",
              "    <tr>\n",
              "      <th>122904</th>\n",
              "      <td>122904</td>\n",
              "      <td>Deadpool (2016)</td>\n",
              "      <td>2016.0</td>\n",
              "      <td>54</td>\n",
              "      <td>3.833333</td>\n",
              "      <td>0</td>\n",
              "      <td>1</td>\n",
              "      <td>1</td>\n",
              "      <td>0</td>\n",
              "      <td>0</td>\n",
              "      <td>1</td>\n",
              "      <td>0</td>\n",
              "      <td>0</td>\n",
              "      <td>0</td>\n",
              "      <td>0</td>\n",
              "      <td>0</td>\n",
              "      <td>0</td>\n",
              "      <td>0</td>\n",
              "      <td>0</td>\n",
              "      <td>0</td>\n",
              "      <td>0</td>\n",
              "      <td>1</td>\n",
              "      <td>0</td>\n",
              "      <td>0</td>\n",
              "      <td>0</td>\n",
              "    </tr>\n",
              "  </tbody>\n",
              "</table>\n",
              "<p>450 rows × 25 columns</p>\n",
              "</div>"
            ],
            "text/plain": [
              "          FILME_ID                            TITULO  ...  War  Western\n",
              "FILME_ID                                              ...              \n",
              "1                1                  Toy Story (1995)  ...    0        0\n",
              "2                2                    Jumanji (1995)  ...    0        0\n",
              "3                3           Grumpier Old Men (1995)  ...    0        0\n",
              "6                6                       Heat (1995)  ...    0        0\n",
              "7                7                    Sabrina (1995)  ...    0        0\n",
              "...            ...                               ...  ...  ...      ...\n",
              "109374      109374  Grand Budapest Hotel, The (2014)  ...    0        0\n",
              "109487      109487               Interstellar (2014)  ...    0        0\n",
              "112852      112852    Guardians of the Galaxy (2014)  ...    0        0\n",
              "116797      116797         The Imitation Game (2014)  ...    1        0\n",
              "122904      122904                   Deadpool (2016)  ...    0        0\n",
              "\n",
              "[450 rows x 25 columns]"
            ]
          },
          "metadata": {
            "tags": []
          },
          "execution_count": 17
        }
      ]
    },
    {
      "cell_type": "markdown",
      "metadata": {
        "id": "lWlYl9ld1PIh"
      },
      "source": [
        "## SERIES Quantidade de filmes por gênero (gerenos_qtd))"
      ]
    },
    {
      "cell_type": "code",
      "metadata": {
        "colab": {
          "base_uri": "https://localhost:8080/"
        },
        "id": "DOfEsdDR1Jss",
        "outputId": "aca17b5a-2db7-4ee0-a2c9-12f7d07b10a5"
      },
      "source": [
        "generos_qtd = generos.sum().sort_values(ascending = False)\n",
        "generos_qtd"
      ],
      "execution_count": 18,
      "outputs": [
        {
          "output_type": "execute_result",
          "data": {
            "text/plain": [
              "Drama                 4361\n",
              "Comedy                3756\n",
              "Thriller              1894\n",
              "Action                1828\n",
              "Romance               1596\n",
              "Adventure             1263\n",
              "Crime                 1199\n",
              "SciFi                  980\n",
              "Horror                 978\n",
              "Fantasy                779\n",
              "Children               664\n",
              "Animation              611\n",
              "Mystery                573\n",
              "Documentary            440\n",
              "War                    382\n",
              "Musical                334\n",
              "Western                167\n",
              "IMAX                   158\n",
              "FilmNoir                87\n",
              "(no genres listed)      34\n",
              "dtype: int64"
            ]
          },
          "metadata": {
            "tags": []
          },
          "execution_count": 18
        }
      ]
    },
    {
      "cell_type": "markdown",
      "metadata": {
        "id": "a-ZvIv3NBsEU"
      },
      "source": [
        "## DATAFRAME Votos por gênero por filme (votos_por_genero_por_filme) "
      ]
    },
    {
      "cell_type": "code",
      "metadata": {
        "colab": {
          "base_uri": "https://localhost:8080/",
          "height": 460
        },
        "id": "eGGk_YM8Bomn",
        "outputId": "685c192d-52e3-4922-fe3b-0e9ada58dfbf"
      },
      "source": [
        "votos_por_genero_por_filme = pd.DataFrame((generos.values.T * movies['QTD_AVALIACOES'].values).T, columns = generos.columns)\n",
        "votos_por_genero_por_filme"
      ],
      "execution_count": 52,
      "outputs": [
        {
          "output_type": "execute_result",
          "data": {
            "text/html": [
              "<div>\n",
              "<style scoped>\n",
              "    .dataframe tbody tr th:only-of-type {\n",
              "        vertical-align: middle;\n",
              "    }\n",
              "\n",
              "    .dataframe tbody tr th {\n",
              "        vertical-align: top;\n",
              "    }\n",
              "\n",
              "    .dataframe thead th {\n",
              "        text-align: right;\n",
              "    }\n",
              "</style>\n",
              "<table border=\"1\" class=\"dataframe\">\n",
              "  <thead>\n",
              "    <tr style=\"text-align: right;\">\n",
              "      <th></th>\n",
              "      <th>(no genres listed)</th>\n",
              "      <th>Action</th>\n",
              "      <th>Adventure</th>\n",
              "      <th>Animation</th>\n",
              "      <th>Children</th>\n",
              "      <th>Comedy</th>\n",
              "      <th>Crime</th>\n",
              "      <th>Documentary</th>\n",
              "      <th>Drama</th>\n",
              "      <th>Fantasy</th>\n",
              "      <th>FilmNoir</th>\n",
              "      <th>Horror</th>\n",
              "      <th>IMAX</th>\n",
              "      <th>Musical</th>\n",
              "      <th>Mystery</th>\n",
              "      <th>Romance</th>\n",
              "      <th>SciFi</th>\n",
              "      <th>Thriller</th>\n",
              "      <th>War</th>\n",
              "      <th>Western</th>\n",
              "    </tr>\n",
              "  </thead>\n",
              "  <tbody>\n",
              "    <tr>\n",
              "      <th>0</th>\n",
              "      <td>0</td>\n",
              "      <td>0</td>\n",
              "      <td>215</td>\n",
              "      <td>215</td>\n",
              "      <td>215</td>\n",
              "      <td>215</td>\n",
              "      <td>0</td>\n",
              "      <td>0</td>\n",
              "      <td>0</td>\n",
              "      <td>215</td>\n",
              "      <td>0</td>\n",
              "      <td>0</td>\n",
              "      <td>0</td>\n",
              "      <td>0</td>\n",
              "      <td>0</td>\n",
              "      <td>0</td>\n",
              "      <td>0</td>\n",
              "      <td>0</td>\n",
              "      <td>0</td>\n",
              "      <td>0</td>\n",
              "    </tr>\n",
              "    <tr>\n",
              "      <th>1</th>\n",
              "      <td>0</td>\n",
              "      <td>0</td>\n",
              "      <td>110</td>\n",
              "      <td>0</td>\n",
              "      <td>110</td>\n",
              "      <td>0</td>\n",
              "      <td>0</td>\n",
              "      <td>0</td>\n",
              "      <td>0</td>\n",
              "      <td>110</td>\n",
              "      <td>0</td>\n",
              "      <td>0</td>\n",
              "      <td>0</td>\n",
              "      <td>0</td>\n",
              "      <td>0</td>\n",
              "      <td>0</td>\n",
              "      <td>0</td>\n",
              "      <td>0</td>\n",
              "      <td>0</td>\n",
              "      <td>0</td>\n",
              "    </tr>\n",
              "    <tr>\n",
              "      <th>2</th>\n",
              "      <td>0</td>\n",
              "      <td>0</td>\n",
              "      <td>0</td>\n",
              "      <td>0</td>\n",
              "      <td>0</td>\n",
              "      <td>52</td>\n",
              "      <td>0</td>\n",
              "      <td>0</td>\n",
              "      <td>0</td>\n",
              "      <td>0</td>\n",
              "      <td>0</td>\n",
              "      <td>0</td>\n",
              "      <td>0</td>\n",
              "      <td>0</td>\n",
              "      <td>0</td>\n",
              "      <td>52</td>\n",
              "      <td>0</td>\n",
              "      <td>0</td>\n",
              "      <td>0</td>\n",
              "      <td>0</td>\n",
              "    </tr>\n",
              "    <tr>\n",
              "      <th>3</th>\n",
              "      <td>0</td>\n",
              "      <td>0</td>\n",
              "      <td>0</td>\n",
              "      <td>0</td>\n",
              "      <td>0</td>\n",
              "      <td>7</td>\n",
              "      <td>0</td>\n",
              "      <td>0</td>\n",
              "      <td>7</td>\n",
              "      <td>0</td>\n",
              "      <td>0</td>\n",
              "      <td>0</td>\n",
              "      <td>0</td>\n",
              "      <td>0</td>\n",
              "      <td>0</td>\n",
              "      <td>7</td>\n",
              "      <td>0</td>\n",
              "      <td>0</td>\n",
              "      <td>0</td>\n",
              "      <td>0</td>\n",
              "    </tr>\n",
              "    <tr>\n",
              "      <th>4</th>\n",
              "      <td>0</td>\n",
              "      <td>0</td>\n",
              "      <td>0</td>\n",
              "      <td>0</td>\n",
              "      <td>0</td>\n",
              "      <td>49</td>\n",
              "      <td>0</td>\n",
              "      <td>0</td>\n",
              "      <td>0</td>\n",
              "      <td>0</td>\n",
              "      <td>0</td>\n",
              "      <td>0</td>\n",
              "      <td>0</td>\n",
              "      <td>0</td>\n",
              "      <td>0</td>\n",
              "      <td>0</td>\n",
              "      <td>0</td>\n",
              "      <td>0</td>\n",
              "      <td>0</td>\n",
              "      <td>0</td>\n",
              "    </tr>\n",
              "    <tr>\n",
              "      <th>...</th>\n",
              "      <td>...</td>\n",
              "      <td>...</td>\n",
              "      <td>...</td>\n",
              "      <td>...</td>\n",
              "      <td>...</td>\n",
              "      <td>...</td>\n",
              "      <td>...</td>\n",
              "      <td>...</td>\n",
              "      <td>...</td>\n",
              "      <td>...</td>\n",
              "      <td>...</td>\n",
              "      <td>...</td>\n",
              "      <td>...</td>\n",
              "      <td>...</td>\n",
              "      <td>...</td>\n",
              "      <td>...</td>\n",
              "      <td>...</td>\n",
              "      <td>...</td>\n",
              "      <td>...</td>\n",
              "      <td>...</td>\n",
              "    </tr>\n",
              "    <tr>\n",
              "      <th>9737</th>\n",
              "      <td>0</td>\n",
              "      <td>1</td>\n",
              "      <td>0</td>\n",
              "      <td>1</td>\n",
              "      <td>0</td>\n",
              "      <td>1</td>\n",
              "      <td>0</td>\n",
              "      <td>0</td>\n",
              "      <td>0</td>\n",
              "      <td>1</td>\n",
              "      <td>0</td>\n",
              "      <td>0</td>\n",
              "      <td>0</td>\n",
              "      <td>0</td>\n",
              "      <td>0</td>\n",
              "      <td>0</td>\n",
              "      <td>0</td>\n",
              "      <td>0</td>\n",
              "      <td>0</td>\n",
              "      <td>0</td>\n",
              "    </tr>\n",
              "    <tr>\n",
              "      <th>9738</th>\n",
              "      <td>0</td>\n",
              "      <td>0</td>\n",
              "      <td>0</td>\n",
              "      <td>1</td>\n",
              "      <td>0</td>\n",
              "      <td>1</td>\n",
              "      <td>0</td>\n",
              "      <td>0</td>\n",
              "      <td>0</td>\n",
              "      <td>1</td>\n",
              "      <td>0</td>\n",
              "      <td>0</td>\n",
              "      <td>0</td>\n",
              "      <td>0</td>\n",
              "      <td>0</td>\n",
              "      <td>0</td>\n",
              "      <td>0</td>\n",
              "      <td>0</td>\n",
              "      <td>0</td>\n",
              "      <td>0</td>\n",
              "    </tr>\n",
              "    <tr>\n",
              "      <th>9739</th>\n",
              "      <td>0</td>\n",
              "      <td>0</td>\n",
              "      <td>0</td>\n",
              "      <td>0</td>\n",
              "      <td>0</td>\n",
              "      <td>0</td>\n",
              "      <td>0</td>\n",
              "      <td>0</td>\n",
              "      <td>1</td>\n",
              "      <td>0</td>\n",
              "      <td>0</td>\n",
              "      <td>0</td>\n",
              "      <td>0</td>\n",
              "      <td>0</td>\n",
              "      <td>0</td>\n",
              "      <td>0</td>\n",
              "      <td>0</td>\n",
              "      <td>0</td>\n",
              "      <td>0</td>\n",
              "      <td>0</td>\n",
              "    </tr>\n",
              "    <tr>\n",
              "      <th>9740</th>\n",
              "      <td>0</td>\n",
              "      <td>1</td>\n",
              "      <td>0</td>\n",
              "      <td>1</td>\n",
              "      <td>0</td>\n",
              "      <td>0</td>\n",
              "      <td>0</td>\n",
              "      <td>0</td>\n",
              "      <td>0</td>\n",
              "      <td>0</td>\n",
              "      <td>0</td>\n",
              "      <td>0</td>\n",
              "      <td>0</td>\n",
              "      <td>0</td>\n",
              "      <td>0</td>\n",
              "      <td>0</td>\n",
              "      <td>0</td>\n",
              "      <td>0</td>\n",
              "      <td>0</td>\n",
              "      <td>0</td>\n",
              "    </tr>\n",
              "    <tr>\n",
              "      <th>9741</th>\n",
              "      <td>0</td>\n",
              "      <td>0</td>\n",
              "      <td>0</td>\n",
              "      <td>0</td>\n",
              "      <td>0</td>\n",
              "      <td>1</td>\n",
              "      <td>0</td>\n",
              "      <td>0</td>\n",
              "      <td>0</td>\n",
              "      <td>0</td>\n",
              "      <td>0</td>\n",
              "      <td>0</td>\n",
              "      <td>0</td>\n",
              "      <td>0</td>\n",
              "      <td>0</td>\n",
              "      <td>0</td>\n",
              "      <td>0</td>\n",
              "      <td>0</td>\n",
              "      <td>0</td>\n",
              "      <td>0</td>\n",
              "    </tr>\n",
              "  </tbody>\n",
              "</table>\n",
              "<p>9742 rows × 20 columns</p>\n",
              "</div>"
            ],
            "text/plain": [
              "      (no genres listed)  Action  Adventure  ...  Thriller  War  Western\n",
              "0                      0       0        215  ...         0    0        0\n",
              "1                      0       0        110  ...         0    0        0\n",
              "2                      0       0          0  ...         0    0        0\n",
              "3                      0       0          0  ...         0    0        0\n",
              "4                      0       0          0  ...         0    0        0\n",
              "...                  ...     ...        ...  ...       ...  ...      ...\n",
              "9737                   0       1          0  ...         0    0        0\n",
              "9738                   0       0          0  ...         0    0        0\n",
              "9739                   0       0          0  ...         0    0        0\n",
              "9740                   0       1          0  ...         0    0        0\n",
              "9741                   0       0          0  ...         0    0        0\n",
              "\n",
              "[9742 rows x 20 columns]"
            ]
          },
          "metadata": {
            "tags": []
          },
          "execution_count": 52
        }
      ]
    },
    {
      "cell_type": "markdown",
      "metadata": {
        "id": "wHf9JJfhCC_o"
      },
      "source": [
        "## SERIES Quantidade de votos por gênero(votos_genero)"
      ]
    },
    {
      "cell_type": "code",
      "metadata": {
        "colab": {
          "base_uri": "https://localhost:8080/"
        },
        "id": "Ag2DaAGaCJoh",
        "outputId": "e9ccf3a9-a48e-4d52-aea7-70aa734889c8"
      },
      "source": [
        "votos_generos = votos_por_genero_por_filme.sum().sort_values(ascending = False)\n",
        "votos_generos"
      ],
      "execution_count": 20,
      "outputs": [
        {
          "output_type": "execute_result",
          "data": {
            "text/plain": [
              "Drama                 41928\n",
              "Comedy                39053\n",
              "Action                30635\n",
              "Thriller              26452\n",
              "Adventure             24161\n",
              "Romance               18124\n",
              "SciFi                 17243\n",
              "Crime                 16681\n",
              "Fantasy               11834\n",
              "Children               9208\n",
              "Mystery                7674\n",
              "Horror                 7291\n",
              "Animation              6988\n",
              "War                    4859\n",
              "IMAX                   4145\n",
              "Musical                4138\n",
              "Western                1930\n",
              "Documentary            1219\n",
              "FilmNoir                870\n",
              "(no genres listed)       47\n",
              "dtype: int64"
            ]
          },
          "metadata": {
            "tags": []
          },
          "execution_count": 20
        }
      ]
    },
    {
      "cell_type": "markdown",
      "metadata": {
        "id": "GdbIYUdu5QF5"
      },
      "source": [
        "## SERIES CORRELAÇÃO"
      ]
    },
    {
      "cell_type": "markdown",
      "metadata": {
        "id": "kyqGfg3Y2rXa"
      },
      "source": [
        "### SERIES Correlação entre gênero e Media das avaliações (correlacao_mediaavaliacoes_generos)"
      ]
    },
    {
      "cell_type": "code",
      "metadata": {
        "colab": {
          "base_uri": "https://localhost:8080/"
        },
        "id": "GxYyP3x02bJ-",
        "outputId": "6978e407-cf01-4b26-e431-faa81ec4eddc"
      },
      "source": [
        "correlacao_mediaavaliacoes_generos = movies[list(movies.columns[4:])].corr()[\"MEDIA_AVALIACOES\"].sort_values(ascending = False).drop(labels=['MEDIA_AVALIACOES'])\n",
        "correlacao_mediaavaliacoes_generos"
      ],
      "execution_count": 21,
      "outputs": [
        {
          "output_type": "execute_result",
          "data": {
            "text/plain": [
              "Drama                 0.163864\n",
              "Documentary           0.129644\n",
              "War                   0.071785\n",
              "Animation             0.069797\n",
              "Romance               0.052080\n",
              "FilmNoir              0.044050\n",
              "Mystery               0.019538\n",
              "Western               0.018380\n",
              "Crime                 0.016961\n",
              "(no genres listed)    0.007402\n",
              "Musical               0.007344\n",
              "IMAX                  0.007321\n",
              "Fantasy              -0.014784\n",
              "Adventure            -0.020964\n",
              "Children             -0.048166\n",
              "Thriller             -0.060024\n",
              "SciFi                -0.061508\n",
              "Comedy               -0.073583\n",
              "Action               -0.092903\n",
              "Horror               -0.131974\n",
              "Name: MEDIA_AVALIACOES, dtype: float64"
            ]
          },
          "metadata": {
            "tags": []
          },
          "execution_count": 21
        }
      ]
    },
    {
      "cell_type": "markdown",
      "metadata": {
        "id": "rcWit3lO5FMd"
      },
      "source": [
        "###SERIES Correlçao entre gênero e Media das avaliações (correlacao_qtdavaliacoes_generos)"
      ]
    },
    {
      "cell_type": "code",
      "metadata": {
        "colab": {
          "base_uri": "https://localhost:8080/"
        },
        "id": "Fy0auXbA5AV5",
        "outputId": "476dd76c-4638-42a9-b20e-ed162ee15a15"
      },
      "source": [
        "correlacao_qtdavaliacoes_generos = movies[[\"QTD_AVALIACOES\"]+list(movies.columns[5:])].corr()[\"QTD_AVALIACOES\"].sort_values(ascending = False).drop(labels=[\"QTD_AVALIACOES\"])\n",
        "correlacao_qtdavaliacoes_generos"
      ],
      "execution_count": 22,
      "outputs": [
        {
          "output_type": "execute_result",
          "data": {
            "text/plain": [
              "Adventure             0.151375\n",
              "Action                0.137591\n",
              "SciFi                 0.108237\n",
              "IMAX                  0.091111\n",
              "Thriller              0.079352\n",
              "Fantasy               0.063755\n",
              "Crime                 0.059613\n",
              "Children              0.042492\n",
              "Mystery               0.033974\n",
              "War                   0.021383\n",
              "Romance               0.019879\n",
              "Musical               0.017160\n",
              "Animation             0.012554\n",
              "Western               0.007117\n",
              "Comedy                0.001658\n",
              "FilmNoir             -0.001487\n",
              "(no genres listed)   -0.023711\n",
              "Drama                -0.029615\n",
              "Horror               -0.043215\n",
              "Documentary          -0.073653\n",
              "Name: QTD_AVALIACOES, dtype: float64"
            ]
          },
          "metadata": {
            "tags": []
          },
          "execution_count": 22
        }
      ]
    },
    {
      "cell_type": "markdown",
      "metadata": {
        "id": "_ISzC-5_xypH"
      },
      "source": [
        "# VIZUALIZAÇÃO E ANÁLISE DOS DADOS"
      ]
    },
    {
      "cell_type": "markdown",
      "metadata": {
        "id": "OofouQdNpJkU"
      },
      "source": [
        "### Plotando os dados\n",
        "- histograma\n",
        "- cummulative distribution function\n",
        "\n",
        "Dicas:\n",
        "\n",
        "- lembre-se de colocar um título nas imagens além de nomes nos eixos x e y\n",
        "- para gerar a versão cumulativa lembre-se de usar os parâmetros `hist_kws` e `kde_kws` para definir `'cumulative'=True`"
      ]
    },
    {
      "cell_type": "markdown",
      "metadata": {
        "id": "4TCCCAO2ygS6"
      },
      "source": [
        "## Pergunta: Visualize o total de votos\n",
        "\n",
        "- histograma\n",
        "- cummulative distribution function"
      ]
    },
    {
      "cell_type": "code",
      "metadata": {
        "id": "BCRoC44LyinS",
        "colab": {
          "base_uri": "https://localhost:8080/",
          "height": 294
        },
        "outputId": "272c04dd-9ba1-44bf-9808-7ea1800f661a"
      },
      "source": [
        "sns.histplot(data = movies_50mais_avaliacoes\n",
        "             ,cumulative= True\n",
        "             , x = 'QTD_AVALIACOES'\n",
        "             )\n",
        "plt.title (\"Quantidade todal de avaliações\")\n",
        "plt.xlabel('Quantidade de avaliações')\n",
        "plt.ylabel('Quantidade de Filmes')\n",
        "#plt.axis([50,300,0,15])\n",
        "plt.grid(True)\n",
        "plt.show()"
      ],
      "execution_count": 24,
      "outputs": [
        {
          "output_type": "display_data",
          "data": {
            "image/png": "[encoded data removed]",
            "text/plain": [
              "<Figure size 432x288 with 1 Axes>"
            ]
          },
          "metadata": {
            "tags": [],
            "needs_background": "light"
          }
        }
      ]
    },
    {
      "cell_type": "markdown",
      "metadata": {
        "id": "MXLcj2XBzqe6"
      },
      "source": [
        "## Pergunta: 20% dos filmes do dataframe tem nota maior que? \n",
        "\n",
        "- lembre-se da função `quantile` do pandas"
      ]
    },
    {
      "cell_type": "code",
      "metadata": {
        "colab": {
          "base_uri": "https://localhost:8080/"
        },
        "id": "QwawCJZmzsp7",
        "outputId": "6377ccb4-bdc3-46bc-bf1a-442ee2a07263"
      },
      "source": [
        "nota_limite_20_porcento = movies[\"MEDIA_AVALIACOES\"].quantile(0.8)\n",
        "\n",
        "print('80 porcento dos filmes possuem uma nota de até %.2f ou 20 porncento dos filmes tem nota maior.' % nota_limite_20_porcento)"
      ],
      "execution_count": 25,
      "outputs": [
        {
          "output_type": "stream",
          "text": [
            "80 porcento dos filmes possuem uma nota de até 4.00 ou 20 porncento dos filmes tem nota maior.\n"
          ],
          "name": "stdout"
        }
      ]
    },
    {
      "cell_type": "code",
      "metadata": {
        "colab": {
          "base_uri": "https://localhost:8080/"
        },
        "id": "5B4ESs0xzv-2",
        "outputId": "ef071e2a-123e-4926-8fdf-ef66e8e06564"
      },
      "source": [
        "\n",
        "'''\n",
        "Na afirmação acima é importante levar em consideraçõies que possuem filmes com notas altas devido à baixa \n",
        "quantidade de avaliações. O que a depender do  objetivo da análise pode levar a interpretações equivocadas.\n",
        "Portanto, para limpar os dados, podemos considerar como notas relevantes, apenas os filmes que possuem mais de 50\n",
        "avaliações (movies_50mais_avaliacoes), desta forma a media de notas passa a ser.\n",
        "'''\n",
        "\n",
        "nota_limite_20_porcento = movies_50mais_avaliacoes[\"MEDIA_AVALIACOES\"].quantile(0.8)\n",
        "\n",
        "print('80 porcento dos filmes com notas relevantes possuem uma média de até %.2f ou 20 porncento dos filmes tem nota maior.' % nota_limite_20_porcento)"
      ],
      "execution_count": null,
      "outputs": [
        {
          "output_type": "stream",
          "text": [
            "80 porcento dos filmes com notas relevantes possuem uma média de até 3.99 ou 20 porncento dos filmes tem nota maior.\n"
          ],
          "name": "stdout"
        }
      ]
    },
    {
      "cell_type": "markdown",
      "metadata": {
        "id": "K-bvuXaR0Q4x"
      },
      "source": [
        "## Pergunta: visualização de quantos filmes existem por genero\n",
        "\n",
        "- Para cada um dos generos você deve agrupar o número de filmes\n",
        "- Ordene as barras, na esquerda o genero com mais filmes, na direita o que tem menos filmes\n",
        "\n",
        "Dica:\n",
        "\n",
        "- Para fazer a soma de uma ou mais colunas individualmente você pode usar `seu_dataframe.sum()`\n",
        "- Não precisa usar o dataframe `filmes`, somente o dataframe `generos`\n",
        "- Em certas situações é mais fácil usar as funções de plotagem do pandas ao invés do seaborn"
      ]
    },
    {
      "cell_type": "code",
      "metadata": {
        "colab": {
          "base_uri": "https://localhost:8080/",
          "height": 445
        },
        "id": "fhj3-xhG0hk-",
        "outputId": "8e156544-d08b-4279-f04b-9180286e519c"
      },
      "source": [
        "generos_qtd.plot(\n",
        "    kind='bar', \n",
        "    title='Quantidade de Filmes por Categoria',\n",
        "    figsize=(16,5))\n",
        "\n",
        "plt.xlabel('Generos')\n",
        "plt.ylabel('Quantidade de Filmes')"
      ],
      "execution_count": 26,
      "outputs": [
        {
          "output_type": "execute_result",
          "data": {
            "text/plain": [
              "Text(0, 0.5, 'Quantidade de Filmes')"
            ]
          },
          "metadata": {
            "tags": []
          },
          "execution_count": 26
        },
        {
          "output_type": "display_data",
          "data": {
            "image/png": "[encoded data removed]",
            "text/plain": [
              "<Figure size 1152x360 with 1 Axes>"
            ]
          },
          "metadata": {
            "tags": [],
            "needs_background": "light"
          }
        }
      ]
    },
    {
      "cell_type": "markdown",
      "metadata": {
        "id": "Y5x4Tr4n1xov"
      },
      "source": [
        "## Pergunta: Quais são os 5 generos com mais filmes?\n",
        "\n",
        "Dica:\n",
        "\n",
        "- `sort_values()` pode ordenar uma Series do pandas"
      ]
    },
    {
      "cell_type": "code",
      "metadata": {
        "colab": {
          "base_uri": "https://localhost:8080/"
        },
        "id": "dGVVn_wV1y9t",
        "outputId": "39bc176c-52b8-4b40-ab00-8d46dc0d7d60"
      },
      "source": [
        "resposta = ', '.join(list(generos_qtd.head(5).index))\n",
        "print(f'Os gêneros que mais aparecem nos filmes, respectivamente do mais frequente ao menos, são: {resposta}')"
      ],
      "execution_count": 27,
      "outputs": [
        {
          "output_type": "stream",
          "text": [
            "Os gêneros que mais aparecem nos filmes, respectivamente do mais frequente ao menos, são: Drama, Comedy, Thriller, Action, Romance\n"
          ],
          "name": "stdout"
        }
      ]
    },
    {
      "cell_type": "markdown",
      "metadata": {
        "id": "yKN-3HjfBXoV"
      },
      "source": [
        "## Pergunta: visualização de votos por genero\n",
        "\n",
        "- o código que gera os votos por genero já está pronto\n",
        "- ordene as categorias da mais visualizada para a menos visualizada\n",
        "- gere a visualização por genero"
      ]
    },
    {
      "cell_type": "code",
      "metadata": {
        "colab": {
          "base_uri": "https://localhost:8080/",
          "height": 427
        },
        "id": "gACyUnirBgKY",
        "outputId": "ff64176a-fb50-4a2e-fb95-aae396f702fa"
      },
      "source": [
        "votos_por_genero_por_filme.sum().sort_values(ascending = False).plot(\n",
        "    kind='bar', \n",
        "    title='Volume de avaliações por gênero',\n",
        "    figsize=(16,5))\n",
        "plt.xlabel('Gênero')\n",
        "plt.ylabel('Quantidade de avaliações')\n",
        "#plt.axis([50,300,0,15])\n",
        "#plt.grid(True)\n",
        "plt.show()"
      ],
      "execution_count": 28,
      "outputs": [
        {
          "output_type": "display_data",
          "data": {
            "image/png": "[encoded data removed]",
            "text/plain": [
              "<Figure size 1152x360 with 1 Axes>"
            ]
          },
          "metadata": {
            "tags": [],
            "needs_background": "light"
          }
        }
      ]
    },
    {
      "cell_type": "markdown",
      "metadata": {
        "id": "wlWvMWHzDClv"
      },
      "source": [
        "## Pergunta : votos por filme por genero\n",
        "\n",
        "Queremos entender a quantidade de votos em relação a quantidade de filmes existentes naquele genero.\n",
        "\n",
        "Por exemplo: \n",
        "- se temos 1000 votos de `Ação` e 10 filmes desse genero, foram 100 votos por filme nesse genero.\n",
        "- se o gênero `Documentário` tem 2 filmes e 500 votos, ele tem 250 votos por filme nesse gênero.\n",
        "\n",
        "Queremos entender isso, a \"popularidade\" média de um filme em cada categoria, isto é, o número de votos dividido pelo número de filmes, organizado para cada categoria.\n",
        "\n",
        "- Você já possui o número de votos por genero\n",
        "- Calcule o número de votos por genero dividido pelo total de filmes por genero\n",
        "- Ordene do maior para o menor\n",
        "- Plote um gráfico para visualizarmos esses dados"
      ]
    },
    {
      "cell_type": "code",
      "metadata": {
        "colab": {
          "base_uri": "https://localhost:8080/"
        },
        "id": "7WC0whcPDHJL",
        "outputId": "cc8bfbc6-ace3-479d-a35e-c6e55a27a468"
      },
      "source": [
        "votos_filme_e_generos = votos_generos / generos_qtd\n",
        "votos_filme_e_generos"
      ],
      "execution_count": 29,
      "outputs": [
        {
          "output_type": "execute_result",
          "data": {
            "text/plain": [
              "(no genres listed)     1.382353\n",
              "Action                16.758753\n",
              "Adventure             19.129850\n",
              "Animation             11.436989\n",
              "Children              13.867470\n",
              "Comedy                10.397497\n",
              "Crime                 13.912427\n",
              "Documentary            2.770455\n",
              "Drama                  9.614309\n",
              "Fantasy               15.191271\n",
              "FilmNoir              10.000000\n",
              "Horror                 7.455010\n",
              "IMAX                  26.234177\n",
              "Musical               12.389222\n",
              "Mystery               13.392670\n",
              "Romance               11.355890\n",
              "SciFi                 17.594898\n",
              "Thriller              13.966209\n",
              "War                   12.719895\n",
              "Western               11.556886\n",
              "dtype: float64"
            ]
          },
          "metadata": {
            "tags": []
          },
          "execution_count": 29
        }
      ]
    },
    {
      "cell_type": "code",
      "metadata": {
        "colab": {
          "base_uri": "https://localhost:8080/",
          "height": 432
        },
        "id": "TEFuNOnwEhac",
        "outputId": "42a09723-55cb-435e-b7b1-e9c9f521d202"
      },
      "source": [
        "votos_filme_e_generos.sort_values(ascending = False).plot(\n",
        "    kind='bar', \n",
        "    title='Média de votos por filme e genero',\n",
        "    figsize=(16,5))\n",
        "plt.ylabel('Média de votos por filme')"
      ],
      "execution_count": 30,
      "outputs": [
        {
          "output_type": "execute_result",
          "data": {
            "text/plain": [
              "Text(0, 0.5, 'Média de votos por filme')"
            ]
          },
          "metadata": {
            "tags": []
          },
          "execution_count": 30
        },
        {
          "output_type": "display_data",
          "data": {
            "image/png": "[encoded data removed]",
            "text/plain": [
              "<Figure size 1152x360 with 1 Axes>"
            ]
          },
          "metadata": {
            "tags": [],
            "needs_background": "light"
          }
        }
      ]
    },
    {
      "cell_type": "markdown",
      "metadata": {
        "id": "-3x0p25fFKiq"
      },
      "source": [
        "## Pergunta: Olhando as 3 últimas visualizações o que você conclui sobre os generos `Action` e `War`? Obs: Como os filmes de gênero IMAX tiveram um comportamento interessante no último gráfico, uma avaliação entre o gêrenos Action e IMAX será mais pertinente neste caso."
      ]
    },
    {
      "cell_type": "markdown",
      "metadata": {
        "id": "E5RTIalWFNOC"
      },
      "source": [
        "Os filmes do gênero ação está entre os três gêneros mais frequentes na amostra, portanto, é natural esperar um grande volume de avaliações. Por outro lado, na amostra há poucos filmes do gênero IMAX, entretanto, estes poucos tiveram um grande volume de votos, deixando o gêrero IMAX em destaque no último gráfico \"Votos por filme e gênero\", fato que pode refletir um grande engajamento das pessoas em relação aos filmes do gênero IMAX."
      ]
    },
    {
      "cell_type": "markdown",
      "metadata": {
        "id": "STzAAEJwFcBl"
      },
      "source": [
        "## Pergunta: Crie 2 boxplots no mesmo plot comparando a coluna `total_de_votos` dos filmes de categoria `Horror` e `Adventure`  \n",
        "\n",
        "Dica:\n",
        "\n",
        "- as vezes é mais fácil usar o boxplot do matplotlib ao invés do seaborn\n",
        "- plt.boxplot suporta o parâmetro labels com uma lista de nomes para cada boxplot plotado"
      ]
    },
    {
      "cell_type": "code",
      "metadata": {
        "colab": {
          "base_uri": "https://localhost:8080/",
          "height": 394
        },
        "id": "4vDMN0DZOjS3",
        "outputId": "6770962b-5020-476e-dd03-8a1fb80031f1"
      },
      "source": [
        "exibicoes = ['Horror','Adventure']\n",
        "data = [movies.query(\"Horror == 1\")['QTD_AVALIACOES'].values\n",
        "        ,movies.query(\"Adventure == 1\")['QTD_AVALIACOES'].values] \n",
        "\n",
        "fig, ax = plt.subplots(figsize=(10, 6))\n",
        "ax.boxplot(data)\n",
        "ax.set_ylim(0, 200)\n",
        "ax.set_xticklabels(np.repeat(exibicoes, 1),\n",
        "                    rotation=0, fontsize=15)\n",
        "\n",
        "plt.ylabel('Quantidade de avaliações')\n",
        "plt.title('Quantidade de Avaliações filme por gênero')\n",
        "plt.show()"
      ],
      "execution_count": 31,
      "outputs": [
        {
          "output_type": "display_data",
          "data": {
            "image/png": "[encoded data removed]",
            "text/plain": [
              "<Figure size 720x432 with 1 Axes>"
            ]
          },
          "metadata": {
            "tags": [],
            "needs_background": "light"
          }
        }
      ]
    },
    {
      "cell_type": "markdown",
      "metadata": {
        "id": "8ZkP5I3oZzNj"
      },
      "source": [
        "## Pergunta: mostre agora um boxplot para cada uma das categorias\n",
        "\n",
        "Dica:\n",
        "- use generos.columns para acessar todos os gêneros\n",
        "- já removemos os hífens dos nomes das colunas quando criamos as colunas de gêneros\n",
        "- plt (pyplot) do matplotlib suporta a função xticks(rotation=90) para rotacionar os labels"
      ]
    },
    {
      "cell_type": "code",
      "metadata": {
        "colab": {
          "base_uri": "https://localhost:8080/",
          "height": 484
        },
        "id": "c5i2nr82Z81k",
        "outputId": "fe60a408-3d3b-41c2-9a51-f931d7660881"
      },
      "source": [
        "exibicoes = list(generos.columns)\n",
        "data =[ \n",
        "         movies.query(exibicoes[1] + \" == 1\")['QTD_AVALIACOES'].values,movies.query(exibicoes[2] + \" == 1\")['QTD_AVALIACOES'].values\n",
        "        ,movies.query(exibicoes[3] + \" == 1\")['QTD_AVALIACOES'].values\n",
        "        ,movies.query(exibicoes[4] + \" == 1\")['QTD_AVALIACOES'].values\n",
        "        ,movies.query(exibicoes[5] + \" == 1\")['QTD_AVALIACOES'].values\n",
        "        ,movies.query(exibicoes[6] + \" == 1\")['QTD_AVALIACOES'].values\n",
        "        ,movies.query(exibicoes[7] + \" == 1\")['QTD_AVALIACOES'].values\n",
        "        ,movies.query(exibicoes[8] + \" == 1\")['QTD_AVALIACOES'].values\n",
        "        ,movies.query(exibicoes[9] + \" == 1\")['QTD_AVALIACOES'].values\n",
        "        ,movies.query(exibicoes[10] + \" == 1\")['QTD_AVALIACOES'].values\n",
        "        ,movies.query(exibicoes[11] + \" == 1\")['QTD_AVALIACOES'].values\n",
        "        ,movies.query(exibicoes[12] + \" == 1\")['QTD_AVALIACOES'].values\n",
        "        ,movies.query(exibicoes[13] + \" == 1\")['QTD_AVALIACOES'].values\n",
        "        ,movies.query(exibicoes[14] + \" == 1\")['QTD_AVALIACOES'].values\n",
        "        ,movies.query(exibicoes[15] + \" == 1\")['QTD_AVALIACOES'].values\n",
        "        ,movies.query(exibicoes[16] + \" == 1\")['QTD_AVALIACOES'].values\n",
        "        ,movies.query(exibicoes[17] + \" == 1\")['QTD_AVALIACOES'].values\n",
        "        ,movies.query(exibicoes[18] + \" == 1\")['QTD_AVALIACOES'].values\n",
        "        ,movies.query(exibicoes[19] + \" == 1\")['QTD_AVALIACOES'].values\n",
        "\n",
        "        \n",
        "      ]\n",
        "\n",
        "fig, ax = plt.subplots(figsize=(10, 6))\n",
        "ax.boxplot(data)\n",
        "ax.set_ylim(0, 75)\n",
        "ax.set_xticklabels(np.repeat(exibicoes[1:], 1),\n",
        "                    rotation=90, fontsize=15)\n",
        "\n",
        "plt.ylabel('Quantidade de avaliações')\n",
        "plt.title('Quantidade de Avaliações filme por gênero(TODOS OS GÊNEROS)')\n",
        "plt.show()"
      ],
      "execution_count": 32,
      "outputs": [
        {
          "output_type": "display_data",
          "data": {
            "image/png": "[encoded data removed]",
            "text/plain": [
              "<Figure size 720x432 with 1 Axes>"
            ]
          },
          "metadata": {
            "tags": [],
            "needs_background": "light"
          }
        }
      ]
    },
    {
      "cell_type": "markdown",
      "metadata": {
        "id": "VV9ecLeOdzfr"
      },
      "source": [
        "## Pergunta: desejo criar um filme com somente um dos gêneros: `Horror` ou `Adventure`. Quero ter uma chance maior de ter um faturamento que pague minhas contas, mesmo que não seja um super sucesso absurdo de vendas. Qual dos 2 gêneros você sugere?"
      ]
    },
    {
      "cell_type": "markdown",
      "metadata": {
        "id": "OVA-WiNFd0jW"
      },
      "source": [
        "Solução: Primeiro é necessário definir o parâmetro avaliativo que pode nos dizer de maneira aproximada o retorno financeiro de determinado filme. Neste caso foi escolhido o indicador de quantidade de avaliações por filme, adotando a premissa de que os filmes mais avaliados possuem maior engajamento, portanto, possuem maiores chances de se popularizarem e maior rentabilidade. Avaliando exclusivamente entre os gêneros de Horror e Adventure, o que possui maior probabilidade de se popularizar seria o de aventura, já que possui uma distribuição melhor do que os filmes de horror, onde 75% dos filmes tem uma quantidade de avaliações que se equipara com a mediana dos filmes de aventura em relação à quantidade de avaliações."
      ]
    },
    {
      "cell_type": "code",
      "metadata": {
        "colab": {
          "base_uri": "https://localhost:8080/"
        },
        "id": "JzpWM99t5bBz",
        "outputId": "d222e5eb-8ea8-44f8-c6d4-280415574353"
      },
      "source": [
        "mediana_adventure = movies.query(\"Adventure == 1\")['QTD_AVALIACOES'].quantile(0.50)\n",
        "terceiro_quartil_horror = movies.query(\"Horror == 1\")['QTD_AVALIACOES'].quantile(0.75)\n",
        "print(f\"75% dos filmes de Horror possuem até {terceiro_quartil_horror} avaliações. 50% dos filmes de Aventura possuem até {mediana_adventure} avaliações\")"
      ],
      "execution_count": 33,
      "outputs": [
        {
          "output_type": "stream",
          "text": [
            "75% dos filmes de Horror possuem até 6.0 avaliações. 50% dos filmes de Aventura possuem até 6.0 avaliações\n"
          ],
          "name": "stdout"
        }
      ]
    },
    {
      "cell_type": "markdown",
      "metadata": {
        "id": "uPP60Tg-VOm7"
      },
      "source": [
        "## Pergunta: Faça os mesmos boxplots para as notas médias (`nota_media`) dos gêneros `Adventure` e `Horror`."
      ]
    },
    {
      "cell_type": "code",
      "metadata": {
        "colab": {
          "base_uri": "https://localhost:8080/",
          "height": 394
        },
        "id": "DCgcvkbcgRdz",
        "outputId": "ef482a4b-946a-44a3-9340-016ab7b29953"
      },
      "source": [
        "exibicoes = ['Horror','Adventure']\n",
        "data = [movies_50mais_avaliacoes.query(\"Horror == 1\")['MEDIA_AVALIACOES'].values\n",
        "        ,movies_50mais_avaliacoes.query(\"Adventure == 1\")['MEDIA_AVALIACOES'].values] \n",
        "\n",
        "fig, ax = plt.subplots(figsize=(10, 6))\n",
        "ax.boxplot(data)\n",
        "ax.set_ylim(0, 5)\n",
        "ax.set_xticklabels(np.repeat(exibicoes, 1),\n",
        "                    rotation=0, fontsize=15)\n",
        "\n",
        "plt.ylabel('Média de avaliações')\n",
        "plt.title('Média das Avaliações filme por gênero (mínimo 50 votos)')\n",
        "plt.show()"
      ],
      "execution_count": 34,
      "outputs": [
        {
          "output_type": "display_data",
          "data": {
            "image/png": "[encoded data removed]",
            "text/plain": [
              "<Figure size 720x432 with 1 Axes>"
            ]
          },
          "metadata": {
            "tags": [],
            "needs_background": "light"
          }
        }
      ]
    },
    {
      "cell_type": "markdown",
      "metadata": {
        "id": "BfCfhtM8vHgd"
      },
      "source": [
        "## Pergunta: Quero fazer um filme que seja sucesso de crítica, com pessoas dando notas altas, mesmo que não tenha um número muito grande de pessoas assistindo. Qual gênero você recomenda se tenho que escolher somente um entre `Adventure` e `Horror`?"
      ]
    },
    {
      "cell_type": "markdown",
      "metadata": {
        "id": "5eFWp8aSvIsu"
      },
      "source": [
        "Solução: As medianas, máximos e mínimos dos generos aventura e horror são muito próximos, portanto, pelo gráfico de bloxpot não fica muito evidente qual seria a melhro decisão a ser tomada. Entretanto, levando em consideração que o Bloxplot é a única referência possível para responder essa pergunta, eu escolheria Adventure, que possui um máximo da média de avaliações sutilmente superior aos filmes de horror.\n",
        "\n"
      ]
    },
    {
      "cell_type": "markdown",
      "metadata": {
        "id": "OvR_BxLF1IiQ"
      },
      "source": [
        "## Pergunta: Quero fazer um filme que seja primeiro sucesso de crítica, com pessoas dando notas altas. Em segundo lugar quero que seja popular (mais pessoas assistam). Com as informações visuais e estatísticas, supondo poder escolher somente um, qual dois 2 gêneros você recomenda agora? `Horror` ou `Adventure`?"
      ]
    },
    {
      "cell_type": "markdown",
      "metadata": {
        "id": "hwzajNbPCOY5"
      },
      "source": [
        "Como já supracitado, com as vizualizações que temos a disposição não foi possível definir de maneira acertiva entre Horror e Adventure qual filme teria uma probabilidade de sucesso maior em crítica, portanto, sigo com a minha opinião anterior favorável ao gênero Adventure, apenas para não deixar esse tópico sem resposta. Quanto à popularidade, é nítido a diferença entre os gêneros, com Adventure levando vantagem, pois, como já avaliado \"75% dos filmes de Horror possuem até 6 avaliações enquanto 50% dos filmes de Aventura possuem até 6 avaliações.\". Portanto a melhor opção é o gênero Adventure."
      ]
    },
    {
      "cell_type": "markdown",
      "metadata": {
        "id": "z8vhtw6J12HD"
      },
      "source": [
        "## Pergunta: Quais são os top 5 filmes dos 2 generos mais assistidas?\n",
        "\n",
        "- utilize os 2 generos mais votados em `votos_por_genero`\n",
        "- utilize a `nota_media` para definir o top 5 filmes\n",
        "- o resultado são 5, não 10 filmes"
      ]
    },
    {
      "cell_type": "code",
      "metadata": {
        "colab": {
          "base_uri": "https://localhost:8080/"
        },
        "id": "-DZetlyd5rEc",
        "outputId": "10f0eb1c-b8be-4695-d47d-a5b17348a00d"
      },
      "source": [
        "votos_generos.head(2)"
      ],
      "execution_count": 40,
      "outputs": [
        {
          "output_type": "execute_result",
          "data": {
            "text/plain": [
              "Drama     41928\n",
              "Comedy    39053\n",
              "dtype: int64"
            ]
          },
          "metadata": {
            "tags": []
          },
          "execution_count": 40
        }
      ]
    },
    {
      "cell_type": "code",
      "metadata": {
        "colab": {
          "base_uri": "https://localhost:8080/",
          "height": 431
        },
        "id": "ywWKZ3OO1_4u",
        "outputId": "b3ae90f7-89cb-4caf-ffc7-21d846bbb6fb"
      },
      "source": [
        "\n",
        "movies_50mais_avaliacoes.query(\"Drama == 1 or Comedy == 1\").sort_values(by = \"MEDIA_AVALIACOES\", ascending = False).head(5)"
      ],
      "execution_count": 41,
      "outputs": [
        {
          "output_type": "execute_result",
          "data": {
            "text/html": [
              "<div>\n",
              "<style scoped>\n",
              "    .dataframe tbody tr th:only-of-type {\n",
              "        vertical-align: middle;\n",
              "    }\n",
              "\n",
              "    .dataframe tbody tr th {\n",
              "        vertical-align: top;\n",
              "    }\n",
              "\n",
              "    .dataframe thead th {\n",
              "        text-align: right;\n",
              "    }\n",
              "</style>\n",
              "<table border=\"1\" class=\"dataframe\">\n",
              "  <thead>\n",
              "    <tr style=\"text-align: right;\">\n",
              "      <th></th>\n",
              "      <th>FILME_ID</th>\n",
              "      <th>TITULO</th>\n",
              "      <th>ANO_LANCAMENTO</th>\n",
              "      <th>QTD_AVALIACOES</th>\n",
              "      <th>MEDIA_AVALIACOES</th>\n",
              "      <th>(no genres listed)</th>\n",
              "      <th>Action</th>\n",
              "      <th>Adventure</th>\n",
              "      <th>Animation</th>\n",
              "      <th>Children</th>\n",
              "      <th>Comedy</th>\n",
              "      <th>Crime</th>\n",
              "      <th>Documentary</th>\n",
              "      <th>Drama</th>\n",
              "      <th>Fantasy</th>\n",
              "      <th>FilmNoir</th>\n",
              "      <th>Horror</th>\n",
              "      <th>IMAX</th>\n",
              "      <th>Musical</th>\n",
              "      <th>Mystery</th>\n",
              "      <th>Romance</th>\n",
              "      <th>SciFi</th>\n",
              "      <th>Thriller</th>\n",
              "      <th>War</th>\n",
              "      <th>Western</th>\n",
              "    </tr>\n",
              "    <tr>\n",
              "      <th>FILME_ID</th>\n",
              "      <th></th>\n",
              "      <th></th>\n",
              "      <th></th>\n",
              "      <th></th>\n",
              "      <th></th>\n",
              "      <th></th>\n",
              "      <th></th>\n",
              "      <th></th>\n",
              "      <th></th>\n",
              "      <th></th>\n",
              "      <th></th>\n",
              "      <th></th>\n",
              "      <th></th>\n",
              "      <th></th>\n",
              "      <th></th>\n",
              "      <th></th>\n",
              "      <th></th>\n",
              "      <th></th>\n",
              "      <th></th>\n",
              "      <th></th>\n",
              "      <th></th>\n",
              "      <th></th>\n",
              "      <th></th>\n",
              "      <th></th>\n",
              "      <th></th>\n",
              "    </tr>\n",
              "  </thead>\n",
              "  <tbody>\n",
              "    <tr>\n",
              "      <th>318</th>\n",
              "      <td>318</td>\n",
              "      <td>Shawshank Redemption, The (1994)</td>\n",
              "      <td>1994.0</td>\n",
              "      <td>317</td>\n",
              "      <td>4.429022</td>\n",
              "      <td>0</td>\n",
              "      <td>0</td>\n",
              "      <td>0</td>\n",
              "      <td>0</td>\n",
              "      <td>0</td>\n",
              "      <td>0</td>\n",
              "      <td>1</td>\n",
              "      <td>0</td>\n",
              "      <td>1</td>\n",
              "      <td>0</td>\n",
              "      <td>0</td>\n",
              "      <td>0</td>\n",
              "      <td>0</td>\n",
              "      <td>0</td>\n",
              "      <td>0</td>\n",
              "      <td>0</td>\n",
              "      <td>0</td>\n",
              "      <td>0</td>\n",
              "      <td>0</td>\n",
              "      <td>0</td>\n",
              "    </tr>\n",
              "    <tr>\n",
              "      <th>858</th>\n",
              "      <td>858</td>\n",
              "      <td>Godfather, The (1972)</td>\n",
              "      <td>1972.0</td>\n",
              "      <td>192</td>\n",
              "      <td>4.289062</td>\n",
              "      <td>0</td>\n",
              "      <td>0</td>\n",
              "      <td>0</td>\n",
              "      <td>0</td>\n",
              "      <td>0</td>\n",
              "      <td>0</td>\n",
              "      <td>1</td>\n",
              "      <td>0</td>\n",
              "      <td>1</td>\n",
              "      <td>0</td>\n",
              "      <td>0</td>\n",
              "      <td>0</td>\n",
              "      <td>0</td>\n",
              "      <td>0</td>\n",
              "      <td>0</td>\n",
              "      <td>0</td>\n",
              "      <td>0</td>\n",
              "      <td>0</td>\n",
              "      <td>0</td>\n",
              "      <td>0</td>\n",
              "    </tr>\n",
              "    <tr>\n",
              "      <th>2959</th>\n",
              "      <td>2959</td>\n",
              "      <td>Fight Club (1999)</td>\n",
              "      <td>1999.0</td>\n",
              "      <td>218</td>\n",
              "      <td>4.272936</td>\n",
              "      <td>0</td>\n",
              "      <td>1</td>\n",
              "      <td>0</td>\n",
              "      <td>0</td>\n",
              "      <td>0</td>\n",
              "      <td>0</td>\n",
              "      <td>1</td>\n",
              "      <td>0</td>\n",
              "      <td>1</td>\n",
              "      <td>0</td>\n",
              "      <td>0</td>\n",
              "      <td>0</td>\n",
              "      <td>0</td>\n",
              "      <td>0</td>\n",
              "      <td>0</td>\n",
              "      <td>0</td>\n",
              "      <td>0</td>\n",
              "      <td>1</td>\n",
              "      <td>0</td>\n",
              "      <td>0</td>\n",
              "    </tr>\n",
              "    <tr>\n",
              "      <th>1276</th>\n",
              "      <td>1276</td>\n",
              "      <td>Cool Hand Luke (1967)</td>\n",
              "      <td>1967.0</td>\n",
              "      <td>57</td>\n",
              "      <td>4.271930</td>\n",
              "      <td>0</td>\n",
              "      <td>0</td>\n",
              "      <td>0</td>\n",
              "      <td>0</td>\n",
              "      <td>0</td>\n",
              "      <td>0</td>\n",
              "      <td>0</td>\n",
              "      <td>0</td>\n",
              "      <td>1</td>\n",
              "      <td>0</td>\n",
              "      <td>0</td>\n",
              "      <td>0</td>\n",
              "      <td>0</td>\n",
              "      <td>0</td>\n",
              "      <td>0</td>\n",
              "      <td>0</td>\n",
              "      <td>0</td>\n",
              "      <td>0</td>\n",
              "      <td>0</td>\n",
              "      <td>0</td>\n",
              "    </tr>\n",
              "    <tr>\n",
              "      <th>750</th>\n",
              "      <td>750</td>\n",
              "      <td>Dr. Strangelove or: How I Learned to Stop Worr...</td>\n",
              "      <td>1964.0</td>\n",
              "      <td>97</td>\n",
              "      <td>4.268041</td>\n",
              "      <td>0</td>\n",
              "      <td>0</td>\n",
              "      <td>0</td>\n",
              "      <td>0</td>\n",
              "      <td>0</td>\n",
              "      <td>1</td>\n",
              "      <td>0</td>\n",
              "      <td>0</td>\n",
              "      <td>0</td>\n",
              "      <td>0</td>\n",
              "      <td>0</td>\n",
              "      <td>0</td>\n",
              "      <td>0</td>\n",
              "      <td>0</td>\n",
              "      <td>0</td>\n",
              "      <td>0</td>\n",
              "      <td>0</td>\n",
              "      <td>0</td>\n",
              "      <td>1</td>\n",
              "      <td>0</td>\n",
              "    </tr>\n",
              "  </tbody>\n",
              "</table>\n",
              "</div>"
            ],
            "text/plain": [
              "          FILME_ID  ... Western\n",
              "FILME_ID            ...        \n",
              "318            318  ...       0\n",
              "858            858  ...       0\n",
              "2959          2959  ...       0\n",
              "1276          1276  ...       0\n",
              "750            750  ...       0\n",
              "\n",
              "[5 rows x 25 columns]"
            ]
          },
          "metadata": {
            "tags": []
          },
          "execution_count": 41
        }
      ]
    },
    {
      "cell_type": "markdown",
      "metadata": {
        "id": "glyXXWYg2KW0"
      },
      "source": [
        "## Pergunta: Quais são os 2 generos com maior valor de correlação com a `nota_media`? E os 2 com menor valor de correlação com a `nota_media`?\n",
        "\n",
        "- O pandas possui a função `corr` para calcular correlação entre todas as colunas"
      ]
    },
    {
      "cell_type": "code",
      "metadata": {
        "colab": {
          "base_uri": "https://localhost:8080/"
        },
        "id": "8dj9kFLk3BZP",
        "outputId": "af1c741c-2c58-4a9d-e645-c080be2c05a5"
      },
      "source": [
        "top2_mais_correlacionados = list(correlacao_mediaavaliacoes_generos.head(2).index)\n",
        "top2_menos_correlacionados = list(correlacao_mediaavaliacoes_generos.tail(2).index)\n",
        "print(f\"Os generos que mais se correlacionam com a media de avaliações são {top2_mais_correlacionados} \\n Os que menos se correlacionam são: {top2_menos_correlacionados}\")"
      ],
      "execution_count": 42,
      "outputs": [
        {
          "output_type": "stream",
          "text": [
            "Os generos que mais se correlacionam com a media de avaliações são ['Drama', 'Documentary'] \n",
            " Os que menos se correlacionam são: ['Action', 'Horror']\n"
          ],
          "name": "stdout"
        }
      ]
    },
    {
      "cell_type": "markdown",
      "metadata": {
        "id": "LtzUzXvU2LjW"
      },
      "source": [
        "## Pergunta: Quais são os 2 generos com maior valor de correlação com `total_de_votos`? E quais os 2 com menor valor de correlação com `total_de_votos`?"
      ]
    },
    {
      "cell_type": "code",
      "metadata": {
        "colab": {
          "base_uri": "https://localhost:8080/"
        },
        "id": "ZHPCwlAR5kG0",
        "outputId": "b2def3da-0ff9-4cc2-b5f8-0851b480fdff"
      },
      "source": [
        "top2_mais_correlacionados = list(correlacao_qtdavaliacoes_generos.head(2).index)\n",
        "top2_menos_correlacionados = list(correlacao_qtdavaliacoes_generos.tail(2).index)\n",
        "print(f\"Os generos que mais se correlacionam com a quantidade de avaliações são {top2_mais_correlacionados} \\n Os que menos se correlacionam são: {top2_menos_correlacionados}\")"
      ],
      "execution_count": 43,
      "outputs": [
        {
          "output_type": "stream",
          "text": [
            "Os generos que mais se correlacionam com a quantidade de avaliações são ['Adventure', 'Action'] \n",
            " Os que menos se correlacionam são: ['Horror', 'Documentary']\n"
          ],
          "name": "stdout"
        }
      ]
    },
    {
      "cell_type": "markdown",
      "metadata": {
        "id": "BnvVOPZ_6Giq"
      },
      "source": [
        "## Pergunta: Visualize graficamente o relacionamento entre ano de lançamento e nota média\n",
        "\n",
        "- Use o gráfico `lineplot`"
      ]
    },
    {
      "cell_type": "code",
      "metadata": {
        "colab": {
          "base_uri": "https://localhost:8080/",
          "height": 295
        },
        "id": "oIRmQ7RV6QGP",
        "outputId": "09f887d7-4f7e-485e-e216-4d3b6bf65348"
      },
      "source": [
        "sns.lineplot(data = movies_50mais_avaliacoes[[\"ANO_LANCAMENTO\",\"MEDIA_AVALIACOES\"]], x = \"ANO_LANCAMENTO\", y = \"MEDIA_AVALIACOES\")\n",
        "plt.title('Média das Avaliações por ano (mínimo 50 votos)')\n",
        "plt.show()"
      ],
      "execution_count": 45,
      "outputs": [
        {
          "output_type": "display_data",
          "data": {
            "image/png": "[encoded data removed]",
            "text/plain": [
              "<Figure size 432x288 with 1 Axes>"
            ]
          },
          "metadata": {
            "tags": [],
            "needs_background": "light"
          }
        }
      ]
    },
    {
      "cell_type": "markdown",
      "metadata": {
        "id": "XY2K3ayLljoj"
      },
      "source": [
        "## Pergunta: Interprete a correlação entre `ano_de_lancamento` e a `nota_media`?\n",
        "\n",
        "- Calcule a correlação numericamente (use o `corr` do pandas)\n",
        "- Correlação não implica causalidade, qual \"problema\" na coleta dos dados pode gerar esse tipo de correlação?"
      ]
    },
    {
      "cell_type": "code",
      "metadata": {
        "colab": {
          "base_uri": "https://localhost:8080/",
          "height": 107
        },
        "id": "LBdvCVsilrjl",
        "outputId": "92d1a105-eb6e-47f0-c2ac-d152b061eb05"
      },
      "source": [
        "movies_50mais_avaliacoes[[\"ANO_LANCAMENTO\",\"MEDIA_AVALIACOES\"]].corr()"
      ],
      "execution_count": 46,
      "outputs": [
        {
          "output_type": "execute_result",
          "data": {
            "text/html": [
              "<div>\n",
              "<style scoped>\n",
              "    .dataframe tbody tr th:only-of-type {\n",
              "        vertical-align: middle;\n",
              "    }\n",
              "\n",
              "    .dataframe tbody tr th {\n",
              "        vertical-align: top;\n",
              "    }\n",
              "\n",
              "    .dataframe thead th {\n",
              "        text-align: right;\n",
              "    }\n",
              "</style>\n",
              "<table border=\"1\" class=\"dataframe\">\n",
              "  <thead>\n",
              "    <tr style=\"text-align: right;\">\n",
              "      <th></th>\n",
              "      <th>ANO_LANCAMENTO</th>\n",
              "      <th>MEDIA_AVALIACOES</th>\n",
              "    </tr>\n",
              "  </thead>\n",
              "  <tbody>\n",
              "    <tr>\n",
              "      <th>ANO_LANCAMENTO</th>\n",
              "      <td>1.000000</td>\n",
              "      <td>-0.159146</td>\n",
              "    </tr>\n",
              "    <tr>\n",
              "      <th>MEDIA_AVALIACOES</th>\n",
              "      <td>-0.159146</td>\n",
              "      <td>1.000000</td>\n",
              "    </tr>\n",
              "  </tbody>\n",
              "</table>\n",
              "</div>"
            ],
            "text/plain": [
              "                  ANO_LANCAMENTO  MEDIA_AVALIACOES\n",
              "ANO_LANCAMENTO          1.000000         -0.159146\n",
              "MEDIA_AVALIACOES       -0.159146          1.000000"
            ]
          },
          "metadata": {
            "tags": []
          },
          "execution_count": 46
        }
      ]
    },
    {
      "cell_type": "markdown",
      "metadata": {
        "id": "r7h-GALClwM7"
      },
      "source": [
        "Solução (explicação)\n",
        "As variáveis Ano Lançamento e Média de Avaliações possuem uma correlação negativa muito fraca. O Problema dessa análise é que os dados foram coletados em um ano específico, e isso implica diretamente na média das avaliações, pois, se a mesma pesquisa for feita após algumas decadas, a média dos filmes atuais será diferente, pois já estariam ultrapassados, o mesmo pode ter acontecido com os filmes lançados no passado.\n"
      ]
    },
    {
      "cell_type": "markdown",
      "metadata": {
        "id": "55Dc9vZsl2Nl"
      },
      "source": [
        "## Pergunta: analise um pairplot\n",
        "\n",
        "- crie uma variável chamada `infos` baseada nas colunas `ano_de_lancamento`, `nota_media` e `total_de_votos` de `filmes`\n",
        "- faça o pairplot usando seaborn\n",
        "- coloque uma regressão linear para cada pequeno plot dentro dele"
      ]
    },
    {
      "cell_type": "code",
      "metadata": {
        "colab": {
          "base_uri": "https://localhost:8080/",
          "height": 567
        },
        "id": "kvRHnTF1l1ny",
        "outputId": "1a243d2e-4814-4e34-e505-e7a8fb409a5b"
      },
      "source": [
        "# solução\n",
        "\n",
        "sns.pairplot(data = movies_50mais_avaliacoes[[\"ANO_LANCAMENTO\",\"MEDIA_AVALIACOES\",\"QTD_AVALIACOES\"]], kind=\"reg\")\n"
      ],
      "execution_count": 47,
      "outputs": [
        {
          "output_type": "execute_result",
          "data": {
            "text/plain": [
              "<seaborn.axisgrid.PairGrid at 0x7fca0396ad30>"
            ]
          },
          "metadata": {
            "tags": []
          },
          "execution_count": 47
        },
        {
          "output_type": "display_data",
          "data": {
            "image/png": "[encoded data removed]",
            "text/plain": [
              "<Figure size 540x540 with 12 Axes>"
            ]
          },
          "metadata": {
            "tags": [],
            "needs_background": "light"
          }
        }
      ]
    },
    {
      "cell_type": "markdown",
      "metadata": {
        "id": "07j4lMDKmVBm"
      },
      "source": [
        "## Pergunta: analise um pairplot dos filmes de `Animation`\n",
        "\n",
        "- use o dataframe `filmes`\n",
        "- em um único pairplot separe com cores distintas os filmes da categoria `Animation` dos outros\n",
        "- use uma palete como `husl`\n",
        "- use marcadores distintos para cada um dos dois grupos\n",
        "- faça o pairplot usando seaborn e coloque uma regressão linear para cada pequeno plot dentro dele\n",
        "- tanto em x quanto y use somente três variáveis: `total_de_votos`, `ano_de_lancamento`, `nota_media`"
      ]
    },
    {
      "cell_type": "code",
      "metadata": {
        "colab": {
          "base_uri": "https://localhost:8080/",
          "height": 567
        },
        "id": "gpYPFpKGodtn",
        "outputId": "91fc2ce5-c336-4939-c808-0e891432539c"
      },
      "source": [
        "sns.pairplot(\n",
        "              data = movies_50mais_avaliacoes\n",
        "              , kind=\"reg\"\n",
        "              ,vars = [\"ANO_LANCAMENTO\",\"MEDIA_AVALIACOES\",\"QTD_AVALIACOES\"]\n",
        "              ,hue = \"Animation\"\n",
        "              ,palette = sns.husl_palette(2, h=.5)\n",
        "              ,markers=[\"o\", \"D\"]\n",
        "             )"
      ],
      "execution_count": 48,
      "outputs": [
        {
          "output_type": "execute_result",
          "data": {
            "text/plain": [
              "<seaborn.axisgrid.PairGrid at 0x7fca00255dd8>"
            ]
          },
          "metadata": {
            "tags": []
          },
          "execution_count": 48
        },
        {
          "output_type": "display_data",
          "data": {
            "image/png": "[encoded data removed]",
            "text/plain": [
              "<Figure size 599x540 with 12 Axes>"
            ]
          },
          "metadata": {
            "tags": [],
            "needs_background": "light"
          }
        }
      ]
    },
    {
      "cell_type": "markdown",
      "metadata": {
        "id": "nQCbv8PjmejJ"
      },
      "source": [
        "## Pergunta: Analise a regressão em relação ao ano de lançamento.\n",
        "\n",
        "- Como parece se comportar a `nota_media` de filmes de `Animation` mais antigos e mais recentes? (ano_de_lancamento x nota_media). Essa correlação parece ser baixa, mas parece ser linear?\n",
        "- E o `ano_de_lancamento` x `total_de_votos`?\n",
        "- E das outras categorias? Compare isso com os outros filmes.\n",
        "- O que leva você levantar como hipótese para esse resultado?"
      ]
    },
    {
      "cell_type": "markdown",
      "metadata": {
        "id": "XxL8EuODwUpk"
      },
      "source": [
        "- A regressão mostra uma nítida evolução. Com notas médias superiores ao decorrer dos anos.\n",
        "\n",
        "- Assim como a média das avaliações. A quantidade de avaliações também cresce ao decorrer dos anos.\n",
        "\n",
        "- Por outro lado, as demais categorias, demonstram um comportamento distinto. As médias das avalações tiveram um decrescimento ao passar dos anos, enquanto a quantidade de avaliações segue com uma baixa variações ao passar dos anos.\n",
        "\n",
        "- Hipótese: Apesar dá média das notas terem reduzido ao passar dos anos no geral, alguns gêneros podem mostrar comportamentos destoântes, como por exemplo o gênero de animação que se favorece bastante com os avanços das tecnologias de animação 3D."
      ]
    },
    {
      "cell_type": "markdown",
      "metadata": {
        "id": "2tadMJR-lASg"
      },
      "source": [
        "#Teste de hipóteses:\n",
        "\n",
        "### - Os filmes com as melhores médias são os melhores filmes? Como posso fazer uma análise mias profunda e classificar os melhores filmes?"
      ]
    },
    {
      "cell_type": "markdown",
      "metadata": {
        "id": "kCG6aH8nLmm8"
      },
      "source": [
        "Uma maneira para realizar uma análise mais profunda acerca do comportamento de determinado fenômeno é por meio dos testes estatísticos, que partindo de uma amostra que atenda aos requisitos exigidos por cada teste, podem auxiliar na modelagem do fenômeno, predição de comportamento futuro, dentre outros indicadores."
      ]
    },
    {
      "cell_type": "markdown",
      "metadata": {
        "id": "RdoRHNb2d8nO"
      },
      "source": [
        "## Pergunta: nossa análise foi até então visual. Aplique um teste estatístico para verificar se existe significância estatística na distribuição dos votos dos filmes de `Adventure` e `Horror`. Sua recomendação continua a mesma? Explique.\n",
        "\n",
        "Passos:\n",
        "\n",
        "- visualize a distribuição de ambas através de histogramas\n",
        "- se suspeitar normalidade na distribuição, faça um teste de normalidade para ambas\n",
        "- aplique um teste adequado de comparação das distribuições\n",
        "- explique o resultado encontrado\n",
        "- utilize p=0.05"
      ]
    },
    {
      "cell_type": "code",
      "metadata": {
        "colab": {
          "base_uri": "https://localhost:8080/",
          "height": 441
        },
        "id": "zYkVIieneJx6",
        "outputId": "f1fbe013-8cc7-41cb-882e-035e53007a58"
      },
      "source": [
        "exibicao = ['Horror','Adventure']\n",
        "\n",
        "\n",
        "x = movies_50mais_avaliacoes.query(\"Horror == 1\")['MEDIA_AVALIACOES'].values\n",
        "y = movies_50mais_avaliacoes.query(\"Adventure == 1\")['MEDIA_AVALIACOES'].values\n",
        "\n",
        "fig, axs = plt.subplots(1, 2,figsize=(10, 6), sharey=True, tight_layout=True)\n",
        "\n",
        "# We can set the number of bins with the `bins` kwarg\n",
        "axs[0].hist(x)\n",
        "axs[0].set_title('Qtd de filmes por Qtd de avaliações Horror')\n",
        "\n",
        "axs[1].hist(y)\n",
        "axs[1].set_title('Qtd de filmes por Qtd de avaliações Adventure')\n",
        "plt.ylabel('Quantidade de filmes')\n",
        "plt.xlabel('Quantidade de avaliações')\n",
        "plt.show()"
      ],
      "execution_count": 57,
      "outputs": [
        {
          "output_type": "display_data",
          "data": {
            "image/png": "[encoded data removed]",
            "text/plain": [
              "<Figure size 720x432 with 2 Axes>"
            ]
          },
          "metadata": {
            "tags": [],
            "needs_background": "light"
          }
        }
      ]
    },
    {
      "cell_type": "code",
      "metadata": {
        "id": "QYl4Hhv4E84K"
      },
      "source": [
        "from scipy import stats\n",
        "# pelo fato da quantidade de amostras serem muito baixas, o teste de homalidade utilizado será do de Shapiro-Wilk."
      ],
      "execution_count": 70,
      "outputs": []
    },
    {
      "cell_type": "code",
      "metadata": {
        "colab": {
          "base_uri": "https://localhost:8080/"
        },
        "id": "BEwqxsOhj_FY",
        "outputId": "bc26951e-029e-4b3a-917d-fcf1bb616ef1"
      },
      "source": [
        "significancia = 0.05\n",
        "stat, p_valor = stats.shapiro(movies_50mais_avaliacoes.query(\"Horror == 1\")[\"MEDIA_AVALIACOES\"])\n",
        "print(f'stat = {stat} , p-valor = {p_valor}')\n",
        "if p_valor <= significancia:\n",
        "  print('A amostra das avaliações dos filmes do gênero Horror, não é proveniente de uma distrinuição normal com um nível de significânicia de 5%')\n",
        "else:\n",
        "  print('A amostra das avaliações dos filmes do gênero Horror, é proveniente de uma distrinuição normal com um nível de significânicia de 5%')"
      ],
      "execution_count": 69,
      "outputs": [
        {
          "output_type": "stream",
          "text": [
            "stat = 0.9116240739822388 , p-valor = 0.02872653678059578\n",
            "A amostra das avaliações dos filmes do gênero Horror, não é proveniente de uma distrinuição normal com um nível de significânicia de 5%\n"
          ],
          "name": "stdout"
        }
      ]
    },
    {
      "cell_type": "code",
      "metadata": {
        "colab": {
          "base_uri": "https://localhost:8080/"
        },
        "id": "UOZ2DgawDiAt",
        "outputId": "3c3e0b23-4ac6-459a-db72-054e7843a9f2"
      },
      "source": [
        "significancia = 0.05\n",
        "stat, p_valor = stats.shapiro(movies_50mais_avaliacoes.query(\"Adventure == 1\")[\"MEDIA_AVALIACOES\"])\n",
        "print(f'stat = {stat} , p-valor = {p_valor}')\n",
        "if p_valor <= significancia:\n",
        "  print('A amostra das avaliações dos filmes do gênero Aventura, não é proveniente de uma distrinuição normal com um nível de significânicia de 5%')\n",
        "else:\n",
        "  print('A amostra das avaliações dos filmes do gênero Aventura, é proveniente de uma distrinuição normal com um nível de significânicia de 5%')"
      ],
      "execution_count": 67,
      "outputs": [
        {
          "output_type": "stream",
          "text": [
            "stat = 0.9532154202461243 , p-valor = 0.00017858231149148196\n",
            "A amostra das avaliações dos filmes do gênero Aventura, não é proveniente de uma distrinuição normal com um nível de significânicia de 5%\n"
          ],
          "name": "stdout"
        }
      ]
    },
    {
      "cell_type": "markdown",
      "metadata": {
        "id": "WKCEJbKv1KZC"
      },
      "source": [
        "## Pergunta: Sua recomendação para maior sucesso de crítica em nota alta entre `Horror` e `Adventure` continua a mesma? Explique."
      ]
    },
    {
      "cell_type": "markdown",
      "metadata": {
        "id": "W1v6jHQfBE76"
      },
      "source": [
        "Sim. Ambos os gêneros não provém de uma distribuição normal com 5% de significância."
      ]
    },
    {
      "cell_type": "markdown",
      "metadata": {
        "id": "3NH04vOamN78"
      },
      "source": [
        "# EXPLORE"
      ]
    },
    {
      "cell_type": "markdown",
      "metadata": {
        "id": "HL2Jr1Mdmk5q"
      },
      "source": [
        "- compartilhe conosco 2 visualizações extras que julgar interessante\n",
        "- explique o que encontrou\n",
        "- use quantas células (texto ou código) julgar necessário"
      ]
    },
    {
      "cell_type": "markdown",
      "metadata": {
        "id": "IYsk7LsrfoIX"
      },
      "source": [
        "## Média de avaliações por ano para Horror e Adventure"
      ]
    },
    {
      "cell_type": "code",
      "metadata": {
        "colab": {
          "base_uri": "https://localhost:8080/",
          "height": 573
        },
        "id": "xWQY7iJ1jAbO",
        "outputId": "5b77e2c6-248f-4e22-82be-84a4612a36fd"
      },
      "source": [
        "x = movies_50mais_avaliacoes.query(\"Horror == 1 and ANO_LANCAMENTO >= 2000\")['ANO_LANCAMENTO']\n",
        "y = movies_50mais_avaliacoes.query(\"Horror == 1 and ANO_LANCAMENTO >= 2000\")['MEDIA_AVALIACOES']\n",
        "plt.plot(x, y, 'o')\n",
        "m, b = np.polyfit(x, y, 1)\n",
        "plt.plot(x, m*x + b)\n",
        "plt.xlabel('Ano Lançamento')\n",
        "plt.ylabel('Média de avaliações')\n",
        "plt.title('Média de Avaliações X Ano de Lançamento (Gênero Horror)')\n",
        "plt.show()\n",
        "\n",
        "\n",
        "x = movies_50mais_avaliacoes.query(\"Adventure == 1 and ANO_LANCAMENTO >= 2000\")['ANO_LANCAMENTO']\n",
        "y = movies_50mais_avaliacoes.query(\"Adventure == 1 and ANO_LANCAMENTO >= 2000\")['MEDIA_AVALIACOES']\n",
        "plt.plot(x, y, 'o')\n",
        "\n",
        "m, b = np.polyfit(x, y, 1)\n",
        "plt.plot(x, m*x + b)\n",
        "plt.xlabel('Ano Lançamento')\n",
        "plt.ylabel('Média de avaliações')\n",
        "plt.title('Média de Avaliações X Ano de Lançamento (Gênero Adventure)')\n",
        "plt.show()"
      ],
      "execution_count": null,
      "outputs": [
        {
          "output_type": "display_data",
          "data": {
            "image/png": "[encoded data removed]",
            "text/plain": [
              "<Figure size 432x288 with 1 Axes>"
            ]
          },
          "metadata": {
            "tags": [],
            "needs_background": "light"
          }
        },
        {
          "output_type": "display_data",
          "data": {
            "image/png": "[encoded data removed]",
            "text/plain": [
              "<Figure size 432x288 with 1 Axes>"
            ]
          },
          "metadata": {
            "tags": [],
            "needs_background": "light"
          }
        }
      ]
    },
    {
      "cell_type": "markdown",
      "metadata": {
        "id": "6PxhwXWvwDhb"
      },
      "source": [
        "Considerações: O intuito da vizualização destes indicadores era tentar responder de maneira acertiva a pergunta sobre qual gênero dentre Horror e Adventure teria maior probabilidade de ser sucesso em críticas, analizando o desempenho destes filmes em um período mais recente. Entretanto, após analizar todos os indicadores apresentados neste projeto, é possível concluir que não existe uma correlação entre o gênero e a nota que será atribuída ao filme. sendo a crítica um fato que depende de outros fatores que não estão presentes em nossa base, como direção, valor investido dentre outros."
      ]
    },
    {
      "cell_type": "markdown",
      "metadata": {
        "id": "vezwe9UrFtpD"
      },
      "source": [
        "## Análise de gênero dos filmes que não foram avaliados"
      ]
    },
    {
      "cell_type": "code",
      "metadata": {
        "id": "hjWZav3ltO-r"
      },
      "source": [
        "sem_avaliacoes = movies['MEDIA_AVALIACOES'].isnull()\n",
        "sem_avaliacoes.name = \"SEM_AVALIACAO\"\n",
        "movies_sem_avaliacao = movies.join(sem_avaliacoes).query('SEM_AVALIACAO == True')"
      ],
      "execution_count": 72,
      "outputs": []
    },
    {
      "cell_type": "code",
      "metadata": {
        "id": "6WGmD0oP8rQV"
      },
      "source": [
        "generos_sem_avaliacao = movies_sem_avaliacao[movies_sem_avaliacao.columns[5:25]].sum().sort_values(ascending = False)"
      ],
      "execution_count": 73,
      "outputs": []
    },
    {
      "cell_type": "code",
      "metadata": {
        "colab": {
          "base_uri": "https://localhost:8080/",
          "height": 445
        },
        "id": "Gf5AgUntBhrF",
        "outputId": "9c70ad9c-dd7d-4e3a-a449-74c08a75e92e"
      },
      "source": [
        "generos_sem_avaliacao.plot(\n",
        "    kind='bar', \n",
        "    title='Quantidade de filmes sem avaliação por categoria',\n",
        "    figsize=(16,5))\n",
        "\n",
        "plt.xlabel('Generos')\n",
        "plt.ylabel('Quantidade de Filmes')"
      ],
      "execution_count": 74,
      "outputs": [
        {
          "output_type": "execute_result",
          "data": {
            "text/plain": [
              "Text(0, 0.5, 'Quantidade de Filmes')"
            ]
          },
          "metadata": {
            "tags": []
          },
          "execution_count": 74
        },
        {
          "output_type": "display_data",
          "data": {
            "image/png": "[encoded data removed]",
            "text/plain": [
              "<Figure size 1152x360 with 1 Axes>"
            ]
          },
          "metadata": {
            "tags": [],
            "needs_background": "light"
          }
        }
      ]
    },
    {
      "cell_type": "markdown",
      "metadata": {
        "id": "cFY39C_UG0HN"
      },
      "source": [
        "Considerações: Estes indicadores possuem o intuito apenas de tentar modeladar o padrão dos filmes que não possuem notas, e tentar encontrar uma razão para tal. Entretanto, a única conclusão que foi possível extrair desta amostra é que os filmes de gênero drama são de longe os filmes que possuem mais casos não avaliados no MovieLens."
      ]
    },
    {
      "cell_type": "markdown",
      "metadata": {
        "id": "mHaTCeVDHqZ8"
      },
      "source": [
        "# AGRADECIMENTOS"
      ]
    },
    {
      "cell_type": "markdown",
      "metadata": {
        "id": "mP58c3lVH9P1"
      },
      "source": [
        "Gostaria de agradecer toda a Equipe Alura pela excelente formação oferecida. O acervo imenso e diversificado de cursos aliado à exelente didática dos professores foram capazes de oferecer uma uma experiência incrível. Com certeza hoje me sinto um profissional muito mais preparado para o mercado em relação a quando iniciei os cursos na Alura. foi um desenvolvimento incrível em um curtíssimo período de tempo, e grande parte disso foi graças a vocês! Parabéns a todos pelo trabalho entregue!\n"
      ]
    }
  ]
}